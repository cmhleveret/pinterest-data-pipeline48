{
 "cells": [
  {
   "cell_type": "code",
   "execution_count": null,
   "metadata": {
    "application/vnd.databricks.v1+cell": {
     "cellMetadata": {
      "byteLimit": 2048000,
      "rowLimit": 10000
     },
     "inputWidgets": {},
     "nuid": "c0b6c7f9-fbba-4674-b13e-7dd734777bdf",
     "showTitle": false,
     "title": ""
    }
   },
   "outputs": [
    {
     "data": {
      "text/html": [
       "<style scoped>\n",
       "  .ansiout {\n",
       "    display: block;\n",
       "    unicode-bidi: embed;\n",
       "    white-space: pre-wrap;\n",
       "    word-wrap: break-word;\n",
       "    word-break: break-all;\n",
       "    font-family: \"Menlo\", \"Monaco\", \"Consolas\", \"Ubuntu Mono\", \"Source Code Pro\", monospace;\n",
       "    font-size: 13px;\n",
       "    color: #555;\n",
       "    margin-left: 4px;\n",
       "    line-height: 19px;\n",
       "  }\n",
       "</style>\n",
       "<div class=\"ansiout\"></div>"
      ]
     },
     "metadata": {
      "application/vnd.databricks.v1+output": {
       "addedWidgets": {},
       "arguments": {},
       "data": "<div class=\"ansiout\"></div>",
       "datasetInfos": [],
       "metadata": {},
       "removedWidgets": [],
       "type": "html"
      }
     },
     "output_type": "display_data"
    },
    {
     "data": {
      "text/html": [
       "<style scoped>\n",
       "  .table-result-container {\n",
       "    max-height: 300px;\n",
       "    overflow: auto;\n",
       "  }\n",
       "  table, th, td {\n",
       "    border: 1px solid black;\n",
       "    border-collapse: collapse;\n",
       "  }\n",
       "  th, td {\n",
       "    padding: 5px;\n",
       "  }\n",
       "  th {\n",
       "    text-align: left;\n",
       "  }\n",
       "</style><div class='table-result-container'><table class='table-result'><thead style='background-color: white'><tr><th>key</th><th>value</th></tr></thead><tbody><tr><td>spark.databricks.delta.formatCheck.enabled</td><td>false</td></tr></tbody></table></div>"
      ]
     },
     "metadata": {
      "application/vnd.databricks.v1+output": {
       "addedWidgets": {},
       "aggData": [],
       "aggError": "",
       "aggOverflow": false,
       "aggSchema": [],
       "aggSeriesLimitReached": false,
       "aggType": "",
       "arguments": {},
       "columnCustomDisplayInfos": {},
       "data": [
        [
         "spark.databricks.delta.formatCheck.enabled",
         "false"
        ]
       ],
       "datasetInfos": [],
       "dbfsResultPath": null,
       "isJsonSchema": true,
       "metadata": {},
       "overflow": false,
       "plotOptions": {
        "customPlotOptions": {},
        "displayType": "table",
        "pivotAggregation": null,
        "pivotColumns": null,
        "xColumns": null,
        "yColumns": null
       },
       "removedWidgets": [],
       "schema": [
        {
         "metadata": "{}",
         "name": "key",
         "type": "\"string\""
        },
        {
         "metadata": "{}",
         "name": "value",
         "type": "\"string\""
        }
       ],
       "type": "table"
      }
     },
     "output_type": "display_data"
    },
    {
     "data": {
      "text/html": [
       "<style scoped>\n",
       "  .ansiout {\n",
       "    display: block;\n",
       "    unicode-bidi: embed;\n",
       "    white-space: pre-wrap;\n",
       "    word-wrap: break-word;\n",
       "    word-break: break-all;\n",
       "    font-family: \"Menlo\", \"Monaco\", \"Consolas\", \"Ubuntu Mono\", \"Source Code Pro\", monospace;\n",
       "    font-size: 13px;\n",
       "    color: #555;\n",
       "    margin-left: 4px;\n",
       "    line-height: 19px;\n",
       "  }\n",
       "</style>\n",
       "<div class=\"ansiout\"></div>"
      ]
     },
     "metadata": {
      "application/vnd.databricks.v1+output": {
       "addedWidgets": {},
       "arguments": {},
       "data": "<div class=\"ansiout\"></div>",
       "datasetInfos": [],
       "metadata": {},
       "removedWidgets": [],
       "type": "html"
      }
     },
     "output_type": "display_data"
    },
    {
     "data": {
      "text/html": [
       "<style scoped>\n",
       "  .ansiout {\n",
       "    display: block;\n",
       "    unicode-bidi: embed;\n",
       "    white-space: pre-wrap;\n",
       "    word-wrap: break-word;\n",
       "    word-break: break-all;\n",
       "    font-family: \"Menlo\", \"Monaco\", \"Consolas\", \"Ubuntu Mono\", \"Source Code Pro\", monospace;\n",
       "    font-size: 13px;\n",
       "    color: #555;\n",
       "    margin-left: 4px;\n",
       "    line-height: 19px;\n",
       "  }\n",
       "</style>\n",
       "<div class=\"ansiout\"></div>"
      ]
     },
     "metadata": {
      "application/vnd.databricks.v1+output": {
       "addedWidgets": {},
       "arguments": {},
       "data": "<div class=\"ansiout\"></div>",
       "datasetInfos": [],
       "metadata": {},
       "removedWidgets": [],
       "type": "html"
      }
     },
     "output_type": "display_data"
    },
    {
     "data": {
      "text/html": [
       "<style scoped>\n",
       "  .ansiout {\n",
       "    display: block;\n",
       "    unicode-bidi: embed;\n",
       "    white-space: pre-wrap;\n",
       "    word-wrap: break-word;\n",
       "    word-break: break-all;\n",
       "    font-family: \"Menlo\", \"Monaco\", \"Consolas\", \"Ubuntu Mono\", \"Source Code Pro\", monospace;\n",
       "    font-size: 13px;\n",
       "    color: #555;\n",
       "    margin-left: 4px;\n",
       "    line-height: 19px;\n",
       "  }\n",
       "</style>\n",
       "<div class=\"ansiout\"></div>"
      ]
     },
     "metadata": {
      "application/vnd.databricks.v1+output": {
       "addedWidgets": {},
       "arguments": {},
       "data": "<div class=\"ansiout\"></div>",
       "datasetInfos": [],
       "metadata": {},
       "removedWidgets": [],
       "type": "html"
      }
     },
     "output_type": "display_data"
    },
    {
     "data": {
      "text/html": [
       "<style scoped>\n",
       "  .ansiout {\n",
       "    display: block;\n",
       "    unicode-bidi: embed;\n",
       "    white-space: pre-wrap;\n",
       "    word-wrap: break-word;\n",
       "    word-break: break-all;\n",
       "    font-family: \"Menlo\", \"Monaco\", \"Consolas\", \"Ubuntu Mono\", \"Source Code Pro\", monospace;\n",
       "    font-size: 13px;\n",
       "    color: #555;\n",
       "    margin-left: 4px;\n",
       "    line-height: 19px;\n",
       "  }\n",
       "</style>\n",
       "<div class=\"ansiout\"></div>"
      ]
     },
     "metadata": {
      "application/vnd.databricks.v1+output": {
       "addedWidgets": {},
       "arguments": {},
       "data": "<div class=\"ansiout\"></div>",
       "datasetInfos": [],
       "metadata": {},
       "removedWidgets": [],
       "type": "html"
      }
     },
     "output_type": "display_data"
    },
    {
     "data": {
      "text/html": [
       "<style scoped>\n",
       "  .ansiout {\n",
       "    display: block;\n",
       "    unicode-bidi: embed;\n",
       "    white-space: pre-wrap;\n",
       "    word-wrap: break-word;\n",
       "    word-break: break-all;\n",
       "    font-family: \"Menlo\", \"Monaco\", \"Consolas\", \"Ubuntu Mono\", \"Source Code Pro\", monospace;\n",
       "    font-size: 13px;\n",
       "    color: #555;\n",
       "    margin-left: 4px;\n",
       "    line-height: 19px;\n",
       "  }\n",
       "</style>\n",
       "<div class=\"ansiout\"></div>"
      ]
     },
     "metadata": {
      "application/vnd.databricks.v1+output": {
       "addedWidgets": {},
       "arguments": {},
       "data": "<div class=\"ansiout\"></div>",
       "datasetInfos": [],
       "metadata": {},
       "removedWidgets": [],
       "type": "html"
      }
     },
     "output_type": "display_data"
    },
    {
     "data": {
      "text/html": [
       "<style scoped>\n",
       "  .ansiout {\n",
       "    display: block;\n",
       "    unicode-bidi: embed;\n",
       "    white-space: pre-wrap;\n",
       "    word-wrap: break-word;\n",
       "    word-break: break-all;\n",
       "    font-family: \"Menlo\", \"Monaco\", \"Consolas\", \"Ubuntu Mono\", \"Source Code Pro\", monospace;\n",
       "    font-size: 13px;\n",
       "    color: #555;\n",
       "    margin-left: 4px;\n",
       "    line-height: 19px;\n",
       "  }\n",
       "</style>\n",
       "<div class=\"ansiout\"></div>"
      ]
     },
     "metadata": {
      "application/vnd.databricks.v1+output": {
       "addedWidgets": {},
       "arguments": {},
       "data": "<div class=\"ansiout\"></div>",
       "datasetInfos": [],
       "metadata": {},
       "removedWidgets": [],
       "type": "html"
      }
     },
     "output_type": "display_data"
    }
   ],
   "source": [
    "%run  \n",
    "./read-from-kinesis"
   ]
  },
  {
   "cell_type": "code",
   "execution_count": null,
   "metadata": {
    "application/vnd.databricks.v1+cell": {
     "cellMetadata": {
      "byteLimit": 2048000,
      "rowLimit": 10000
     },
     "inputWidgets": {},
     "nuid": "0b055bb6-03f4-4929-afac-b9c8e4621afc",
     "showTitle": false,
     "title": ""
    }
   },
   "outputs": [
    {
     "data": {
      "text/html": [
       "<style scoped>\n",
       "  .table-result-container {\n",
       "    max-height: 300px;\n",
       "    overflow: auto;\n",
       "  }\n",
       "  table, th, td {\n",
       "    border: 1px solid black;\n",
       "    border-collapse: collapse;\n",
       "  }\n",
       "  th, td {\n",
       "    padding: 5px;\n",
       "  }\n",
       "  th {\n",
       "    text-align: left;\n",
       "  }\n",
       "</style><div class='table-result-container'><table class='table-result'><thead style='background-color: white'><tr><th>ind</th><th>first_name</th><th>last_name</th><th>age</th><th>date_joined</th></tr></thead><tbody><tr><td>7528</td><td>Abigail</td><td>Ali</td><td>20</td><td>2015-10-24T11:23:51.000+0000</td></tr><tr><td>2863</td><td>Dylan</td><td>Holmes</td><td>32</td><td>2016-10-23T14:06:51.000+0000</td></tr><tr><td>5730</td><td>Rachel</td><td>Davis</td><td>36</td><td>2015-12-08T20:02:43.000+0000</td></tr><tr><td>7528</td><td>Abigail</td><td>Ali</td><td>20</td><td>2015-10-24T11:23:51.000+0000</td></tr><tr><td>2863</td><td>Dylan</td><td>Holmes</td><td>32</td><td>2016-10-23T14:06:51.000+0000</td></tr><tr><td>5730</td><td>Rachel</td><td>Davis</td><td>36</td><td>2015-12-08T20:02:43.000+0000</td></tr><tr><td>8304</td><td>Charles</td><td>Berry</td><td>25</td><td>2015-12-28T04:21:39.000+0000</td></tr><tr><td>8731</td><td>Andrea</td><td>Alexander</td><td>21</td><td>2015-11-10T09:27:42.000+0000</td></tr><tr><td>1313</td><td>Brittany</td><td>Jones</td><td>32</td><td>2016-04-02T03:51:23.000+0000</td></tr><tr><td>4315</td><td>Michelle</td><td>Prince</td><td>36</td><td>2015-12-20T16:38:13.000+0000</td></tr><tr><td>10794</td><td>Thomas</td><td>Turner</td><td>34</td><td>2016-12-22T00:02:02.000+0000</td></tr><tr><td>7528</td><td>Abigail</td><td>Ali</td><td>20</td><td>2015-10-24T11:23:51.000+0000</td></tr><tr><td>2863</td><td>Dylan</td><td>Holmes</td><td>32</td><td>2016-10-23T14:06:51.000+0000</td></tr><tr><td>5730</td><td>Rachel</td><td>Davis</td><td>36</td><td>2015-12-08T20:02:43.000+0000</td></tr><tr><td>8304</td><td>Charles</td><td>Berry</td><td>25</td><td>2015-12-28T04:21:39.000+0000</td></tr><tr><td>8731</td><td>Andrea</td><td>Alexander</td><td>21</td><td>2015-11-10T09:27:42.000+0000</td></tr><tr><td>1313</td><td>Brittany</td><td>Jones</td><td>32</td><td>2016-04-02T03:51:23.000+0000</td></tr><tr><td>4315</td><td>Michelle</td><td>Prince</td><td>36</td><td>2015-12-20T16:38:13.000+0000</td></tr><tr><td>10794</td><td>Thomas</td><td>Turner</td><td>34</td><td>2016-12-22T00:02:02.000+0000</td></tr><tr><td>5494</td><td>Anne</td><td>Allen</td><td>27</td><td>2015-12-16T15:20:05.000+0000</td></tr><tr><td>5069</td><td>Amanda</td><td>Ball</td><td>25</td><td>2016-01-13T17:36:30.000+0000</td></tr><tr><td>2923</td><td>Brian</td><td>Nelson</td><td>26</td><td>2015-11-11T03:20:57.000+0000</td></tr><tr><td>3089</td><td>Abigail</td><td>Ali</td><td>20</td><td>2015-10-24T11:23:51.000+0000</td></tr><tr><td>6063</td><td>Corey</td><td>Andrews</td><td>23</td><td>2015-11-25T13:36:22.000+0000</td></tr><tr><td>3454</td><td>Robert</td><td>Murphy</td><td>48</td><td>2017-09-26T16:31:56.000+0000</td></tr><tr><td>7554</td><td>Cheryl</td><td>Huerta</td><td>20</td><td>2017-04-11T16:35:33.000+0000</td></tr><tr><td>6145</td><td>Emily</td><td>Hawkins</td><td>30</td><td>2015-12-25T20:24:37.000+0000</td></tr><tr><td>10625</td><td>Christian</td><td>Lang</td><td>32</td><td>2017-10-10T20:09:33.000+0000</td></tr><tr><td>2959</td><td>David</td><td>Griffith</td><td>20</td><td>2016-01-07T19:49:22.000+0000</td></tr><tr><td>9875</td><td>Brendan</td><td>Joseph</td><td>26</td><td>2015-12-20T10:28:00.000+0000</td></tr><tr><td>2418</td><td>Amanda</td><td>Adams</td><td>20</td><td>2015-10-21T08:27:36.000+0000</td></tr><tr><td>3156</td><td>Andrew</td><td>Baker</td><td>22</td><td>2015-12-21T08:06:54.000+0000</td></tr><tr><td>428</td><td>Claudia</td><td>Adams</td><td>20</td><td>2015-11-28T02:20:29.000+0000</td></tr><tr><td>7343</td><td>Anne</td><td>Clayton</td><td>24</td><td>2016-01-11T12:03:48.000+0000</td></tr><tr><td>2074</td><td>Annette</td><td>Forbes</td><td>21</td><td>2016-01-03T15:42:12.000+0000</td></tr><tr><td>9979</td><td>Kaylee</td><td>Miller</td><td>31</td><td>2016-11-09T19:50:51.000+0000</td></tr><tr><td>10138</td><td>Carol</td><td>Silva</td><td>22</td><td>2015-12-31T14:57:02.000+0000</td></tr><tr><td>9672</td><td>Jennifer</td><td>Hudson</td><td>22</td><td>2016-02-11T20:46:04.000+0000</td></tr></tbody></table></div>"
      ]
     },
     "metadata": {
      "application/vnd.databricks.v1+output": {
       "addedWidgets": {},
       "aggData": [],
       "aggError": "",
       "aggOverflow": false,
       "aggSchema": [],
       "aggSeriesLimitReached": false,
       "aggType": "",
       "arguments": {},
       "columnCustomDisplayInfos": {},
       "data": [
        [
         7528,
         "Abigail",
         "Ali",
         20,
         "2015-10-24T11:23:51.000+0000"
        ],
        [
         2863,
         "Dylan",
         "Holmes",
         32,
         "2016-10-23T14:06:51.000+0000"
        ],
        [
         5730,
         "Rachel",
         "Davis",
         36,
         "2015-12-08T20:02:43.000+0000"
        ],
        [
         7528,
         "Abigail",
         "Ali",
         20,
         "2015-10-24T11:23:51.000+0000"
        ],
        [
         2863,
         "Dylan",
         "Holmes",
         32,
         "2016-10-23T14:06:51.000+0000"
        ],
        [
         5730,
         "Rachel",
         "Davis",
         36,
         "2015-12-08T20:02:43.000+0000"
        ],
        [
         8304,
         "Charles",
         "Berry",
         25,
         "2015-12-28T04:21:39.000+0000"
        ],
        [
         8731,
         "Andrea",
         "Alexander",
         21,
         "2015-11-10T09:27:42.000+0000"
        ],
        [
         1313,
         "Brittany",
         "Jones",
         32,
         "2016-04-02T03:51:23.000+0000"
        ],
        [
         4315,
         "Michelle",
         "Prince",
         36,
         "2015-12-20T16:38:13.000+0000"
        ],
        [
         10794,
         "Thomas",
         "Turner",
         34,
         "2016-12-22T00:02:02.000+0000"
        ],
        [
         7528,
         "Abigail",
         "Ali",
         20,
         "2015-10-24T11:23:51.000+0000"
        ],
        [
         2863,
         "Dylan",
         "Holmes",
         32,
         "2016-10-23T14:06:51.000+0000"
        ],
        [
         5730,
         "Rachel",
         "Davis",
         36,
         "2015-12-08T20:02:43.000+0000"
        ],
        [
         8304,
         "Charles",
         "Berry",
         25,
         "2015-12-28T04:21:39.000+0000"
        ],
        [
         8731,
         "Andrea",
         "Alexander",
         21,
         "2015-11-10T09:27:42.000+0000"
        ],
        [
         1313,
         "Brittany",
         "Jones",
         32,
         "2016-04-02T03:51:23.000+0000"
        ],
        [
         4315,
         "Michelle",
         "Prince",
         36,
         "2015-12-20T16:38:13.000+0000"
        ],
        [
         10794,
         "Thomas",
         "Turner",
         34,
         "2016-12-22T00:02:02.000+0000"
        ],
        [
         5494,
         "Anne",
         "Allen",
         27,
         "2015-12-16T15:20:05.000+0000"
        ],
        [
         5069,
         "Amanda",
         "Ball",
         25,
         "2016-01-13T17:36:30.000+0000"
        ],
        [
         2923,
         "Brian",
         "Nelson",
         26,
         "2015-11-11T03:20:57.000+0000"
        ],
        [
         3089,
         "Abigail",
         "Ali",
         20,
         "2015-10-24T11:23:51.000+0000"
        ],
        [
         6063,
         "Corey",
         "Andrews",
         23,
         "2015-11-25T13:36:22.000+0000"
        ],
        [
         3454,
         "Robert",
         "Murphy",
         48,
         "2017-09-26T16:31:56.000+0000"
        ],
        [
         7554,
         "Cheryl",
         "Huerta",
         20,
         "2017-04-11T16:35:33.000+0000"
        ],
        [
         6145,
         "Emily",
         "Hawkins",
         30,
         "2015-12-25T20:24:37.000+0000"
        ],
        [
         10625,
         "Christian",
         "Lang",
         32,
         "2017-10-10T20:09:33.000+0000"
        ],
        [
         2959,
         "David",
         "Griffith",
         20,
         "2016-01-07T19:49:22.000+0000"
        ],
        [
         9875,
         "Brendan",
         "Joseph",
         26,
         "2015-12-20T10:28:00.000+0000"
        ],
        [
         2418,
         "Amanda",
         "Adams",
         20,
         "2015-10-21T08:27:36.000+0000"
        ],
        [
         3156,
         "Andrew",
         "Baker",
         22,
         "2015-12-21T08:06:54.000+0000"
        ],
        [
         428,
         "Claudia",
         "Adams",
         20,
         "2015-11-28T02:20:29.000+0000"
        ],
        [
         7343,
         "Anne",
         "Clayton",
         24,
         "2016-01-11T12:03:48.000+0000"
        ],
        [
         2074,
         "Annette",
         "Forbes",
         21,
         "2016-01-03T15:42:12.000+0000"
        ],
        [
         9979,
         "Kaylee",
         "Miller",
         31,
         "2016-11-09T19:50:51.000+0000"
        ],
        [
         10138,
         "Carol",
         "Silva",
         22,
         "2015-12-31T14:57:02.000+0000"
        ],
        [
         9672,
         "Jennifer",
         "Hudson",
         22,
         "2016-02-11T20:46:04.000+0000"
        ]
       ],
       "datasetInfos": [],
       "dbfsResultPath": null,
       "isJsonSchema": true,
       "metadata": {
        "isDbfsCommandResult": false
       },
       "overflow": false,
       "plotOptions": {
        "customPlotOptions": {},
        "displayType": "table",
        "pivotAggregation": null,
        "pivotColumns": null,
        "xColumns": null,
        "yColumns": null
       },
       "removedWidgets": [],
       "schema": [
        {
         "metadata": "{}",
         "name": "ind",
         "type": "\"long\""
        },
        {
         "metadata": "{}",
         "name": "first_name",
         "type": "\"string\""
        },
        {
         "metadata": "{}",
         "name": "last_name",
         "type": "\"string\""
        },
        {
         "metadata": "{}",
         "name": "age",
         "type": "\"long\""
        },
        {
         "metadata": "{}",
         "name": "date_joined",
         "type": "\"timestamp\""
        }
       ],
       "type": "table"
      }
     },
     "output_type": "display_data"
    }
   ],
   "source": [
    "from pyspark.sql.functions import from_json, col\n",
    "from pyspark.sql.types import StringType, StructType, StructField, TimestampType\n",
    "\n",
    "geo_schema = StructType([\n",
    "    StructField(\"ind\", LongType()),\n",
    "    StructField(\"timestamp\", TimestampType()),\n",
    "    StructField(\"latitude\", DoubleType()),\n",
    "    StructField(\"longitude\", DoubleType()),\n",
    "    StructField(\"country\", StringType())\n",
    "])\n",
    "\n",
    "pin_schema = StructType([\n",
    "    StructField(\"index\", LongType()),\n",
    "    StructField(\"unique_id\", StringType()),\n",
    "    StructField(\"title\", StringType()),\n",
    "    StructField(\"description\", StringType()),\n",
    "    StructField(\"poster_name\", StringType()),\n",
    "    StructField(\"follower_count\", StringType()),\n",
    "    StructField(\"tag_list\", StringType()),\n",
    "    StructField(\"is_image_or_video\", StringType()),\n",
    "    StructField(\"image_src\", StringType()),\n",
    "    StructField(\"downloaded\", BooleanType()),\n",
    "    StructField(\"save_location\", StringType()),\n",
    "    StructField(\"category\", StringType())\n",
    "])\n",
    "# {'index': 8304, 'unique_id': '5b6d0913-25e4-43ab-839d-85d5516f78a4', 'title': 'The #1 Reason You’re Not His Priority Anymore - Matthew Coast', 'description': '#lovequotes #matchmaker #matchmadeinheaven #loveyourself #respectyourself', 'poster_name': 'Commitment Connection', 'follower_count': '51k', 'tag_list': 'Wise Quotes,Quotable Quotes,Words Quotes,Wise Words,Quotes To Live By,Great Quotes,Motivational Quotes,Inspirational Quotes,Funny Quotes', 'is_image_or_video': 'image', 'image_src': 'https://i.pinimg.com/originals/c6/64/ee/c664ee71524fb5a6e7b7b49233f93b43.png', 'downloaded': 1, 'save_location': 'Local save in /data/quotes', 'category': 'quotes'}\n",
    "\n",
    "user_schema = StructType([\n",
    "    StructField(\"ind\", LongType()),\n",
    "    StructField(\"first_name\", StringType()),\n",
    "    StructField(\"last_name\", StringType()),\n",
    "    StructField(\"age\", LongType()),\n",
    "    StructField(\"date_joined\", TimestampType()),\n",
    "])\n",
    "\n",
    "parsed_pin_df = pin_stream.select(from_json(col(\"data\"), pin_schema).alias(\"parsed\"))\n",
    "# Flatten the fields\n",
    "pin_df = parsed_pin_df.select(\n",
    "    col(\"parsed.index\").alias(\"ind\"),\n",
    "    col(\"parsed.unique_id\").alias(\"unique_id\"),\n",
    "    col(\"parsed.title\").alias(\"title\"),\n",
    "    col(\"parsed.description\").alias(\"description\"),\n",
    "    col(\"parsed.poster_name\").alias(\"poster_name\"),\n",
    "    col(\"parsed.follower_count\").alias(\"follower_count\"),\n",
    "    col(\"parsed.tag_list\").alias(\"tag_list\"),\n",
    "    col(\"parsed.is_image_or_video\").alias(\"is_image_or_video\"),\n",
    "    col(\"parsed.image_src\").alias(\"image_src\"),\n",
    "    col(\"parsed.downloaded\").alias(\"downloaded\"),\n",
    "    col(\"parsed.save_location\").alias(\"save_location\"),\n",
    "    col(\"parsed.category\").alias(\"category\")\n",
    ")\n",
    "\n",
    "parsed_user_df = user_stream.select(from_json(col(\"data\"), user_schema).alias(\"parsed\"))\n",
    "# Flatten the fields\n",
    "user_df = parsed_user_df.select(\n",
    "    col(\"parsed.ind\").alias(\"ind\"),\n",
    "    col(\"parsed.first_name\").alias(\"first_name\"),\n",
    "    col(\"parsed.last_name\").alias(\"last_name\"),\n",
    "    col(\"parsed.age\").alias(\"age\"),\n",
    "    col(\"parsed.date_joined\").alias(\"date_joined\")\n",
    ")\n",
    "\n",
    "parsed_geo_df = geo_stream.select(from_json(col(\"data\"), geo_schema).alias(\"parsed\"))\n",
    "# Flatten the fields\n",
    "geo_df = parsed_geo_df.select(\n",
    "    col(\"parsed.ind\").alias(\"ind\"),\n",
    "    col(\"parsed.timestamp\").alias(\"timestamp\"),\n",
    "    col(\"parsed.latitude\").alias(\"latitude\"),\n",
    "    col(\"parsed.longitude\").alias(\"longitude\"),\n",
    "    col(\"parsed.country\").alias(\"country\")\n",
    ")\n",
    "\n",
    "display(geo_df)\n",
    "display(user_df)\n",
    "display(pin_df)\n"
   ]
  },
  {
   "cell_type": "code",
   "execution_count": null,
   "metadata": {
    "application/vnd.databricks.v1+cell": {
     "cellMetadata": {
      "byteLimit": 2048000,
      "rowLimit": 10000
     },
     "inputWidgets": {},
     "nuid": "49402201-64ed-40d9-866b-a394dc1d558e",
     "showTitle": false,
     "title": ""
    }
   },
   "outputs": [
    {
     "data": {
      "text/html": [
       "<style scoped>\n",
       "  .table-result-container {\n",
       "    max-height: 300px;\n",
       "    overflow: auto;\n",
       "  }\n",
       "  table, th, td {\n",
       "    border: 1px solid black;\n",
       "    border-collapse: collapse;\n",
       "  }\n",
       "  th, td {\n",
       "    padding: 5px;\n",
       "  }\n",
       "  th {\n",
       "    text-align: left;\n",
       "  }\n",
       "</style><div class='table-result-container'><table class='table-result'><thead style='background-color: white'><tr><th>ind</th><th>country</th><th>coordinates</th><th>timestamp</th></tr></thead><tbody><tr><td>7528</td><td>Albania</td><td>List(-89.9787, -173.293)</td><td>2020-08-28T03:52:47.000+0000</td></tr><tr><td>2863</td><td>Armenia</td><td>List(-5.34445, -177.924)</td><td>2020-04-27T13:34:16.000+0000</td></tr><tr><td>5730</td><td>Colombia</td><td>List(-77.015, -101.437)</td><td>2021-04-19T17:37:03.000+0000</td></tr><tr><td>7528</td><td>Albania</td><td>List(-89.9787, -173.293)</td><td>2020-08-28T03:52:47.000+0000</td></tr><tr><td>2863</td><td>Armenia</td><td>List(-5.34445, -177.924)</td><td>2020-04-27T13:34:16.000+0000</td></tr><tr><td>5730</td><td>Colombia</td><td>List(-77.015, -101.437)</td><td>2021-04-19T17:37:03.000+0000</td></tr><tr><td>8304</td><td>French Guiana</td><td>List(-28.8852, -164.87)</td><td>2019-09-13T04:50:29.000+0000</td></tr><tr><td>8731</td><td>Aruba</td><td>List(-83.104, -171.302)</td><td>2020-07-17T04:39:09.000+0000</td></tr><tr><td>1313</td><td>Maldives</td><td>List(77.0447, 61.9119)</td><td>2018-06-26T02:39:25.000+0000</td></tr><tr><td>4315</td><td>Cote d'Ivoire</td><td>List(-45.8508, 66.1003)</td><td>2019-12-15T03:51:28.000+0000</td></tr><tr><td>10794</td><td>Cocos (Keeling) Islands</td><td>List(-89.5236, -154.567)</td><td>2022-01-01T02:26:50.000+0000</td></tr><tr><td>5494</td><td>Bulgaria</td><td>List(-82.6768, -129.202)</td><td>2021-07-21T02:02:35.000+0000</td></tr><tr><td>7528</td><td>Albania</td><td>List(-89.9787, -173.293)</td><td>2020-08-28T03:52:47.000+0000</td></tr><tr><td>2863</td><td>Armenia</td><td>List(-5.34445, -177.924)</td><td>2020-04-27T13:34:16.000+0000</td></tr><tr><td>5730</td><td>Colombia</td><td>List(-77.015, -101.437)</td><td>2021-04-19T17:37:03.000+0000</td></tr><tr><td>8304</td><td>French Guiana</td><td>List(-28.8852, -164.87)</td><td>2019-09-13T04:50:29.000+0000</td></tr><tr><td>8731</td><td>Aruba</td><td>List(-83.104, -171.302)</td><td>2020-07-17T04:39:09.000+0000</td></tr><tr><td>1313</td><td>Maldives</td><td>List(77.0447, 61.9119)</td><td>2018-06-26T02:39:25.000+0000</td></tr><tr><td>4315</td><td>Cote d'Ivoire</td><td>List(-45.8508, 66.1003)</td><td>2019-12-15T03:51:28.000+0000</td></tr><tr><td>10794</td><td>Cocos (Keeling) Islands</td><td>List(-89.5236, -154.567)</td><td>2022-01-01T02:26:50.000+0000</td></tr><tr><td>5494</td><td>Bulgaria</td><td>List(-82.6768, -129.202)</td><td>2021-07-21T02:02:35.000+0000</td></tr><tr><td>5069</td><td>Azerbaijan</td><td>List(-63.0063, -157.474)</td><td>2021-03-20T09:32:44.000+0000</td></tr><tr><td>2923</td><td>Cote d'Ivoire</td><td>List(-84.6302, -164.507)</td><td>2019-09-08T22:53:09.000+0000</td></tr><tr><td>3089</td><td>Albania</td><td>List(-89.9787, -173.293)</td><td>2018-02-28T05:31:29.000+0000</td></tr><tr><td>6063</td><td>Anguilla</td><td>List(-89.1797, -174.015)</td><td>2021-07-20T09:02:47.000+0000</td></tr><tr><td>3454</td><td>Cambodia</td><td>List(-0.375174, 49.8106)</td><td>2021-07-25T02:20:29.000+0000</td></tr><tr><td>7554</td><td>Sudan</td><td>List(-51.2172, -77.9768)</td><td>2019-03-20T03:15:07.000+0000</td></tr><tr><td>6145</td><td>Mozambique</td><td>List(-65.9079, -143.845)</td><td>2019-12-05T02:09:44.000+0000</td></tr><tr><td>10625</td><td>Jamaica</td><td>List(-84.4944, -81.0613)</td><td>2018-07-13T11:51:15.000+0000</td></tr><tr><td>2959</td><td>Angola</td><td>List(-68.0095, -157.227)</td><td>2019-08-19T08:22:02.000+0000</td></tr><tr><td>9875</td><td>Barbados</td><td>List(-74.3382, -110.484)</td><td>2020-03-20T13:03:18.000+0000</td></tr><tr><td>2418</td><td>Antarctica (the territory South of 60 deg S)</td><td>List(-88.4642, -171.061)</td><td>2022-05-27T11:30:59.000+0000</td></tr><tr><td>3156</td><td>Armenia</td><td>List(-84.738, -160.795)</td><td>2018-01-13T19:33:49.000+0000</td></tr><tr><td>428</td><td>Bangladesh</td><td>List(-83.4105, -150.788)</td><td>2020-09-27T18:46:41.000+0000</td></tr><tr><td>7343</td><td>Australia</td><td>List(-65.4428, -161.684)</td><td>2018-08-06T12:17:07.000+0000</td></tr><tr><td>2074</td><td>Central African Republic</td><td>List(-52.3213, -50.11)</td><td>2019-11-03T05:41:59.000+0000</td></tr><tr><td>9979</td><td>Dominican Republic</td><td>List(14.9967, -120.682)</td><td>2018-07-18T19:01:46.000+0000</td></tr><tr><td>10138</td><td>Austria</td><td>List(-72.142, -74.3545)</td><td>2019-08-03T00:59:29.000+0000</td></tr><tr><td>9672</td><td>India</td><td>List(79.4658, -69.4133)</td><td>2019-11-03T13:15:52.000+0000</td></tr></tbody></table></div>"
      ]
     },
     "metadata": {
      "application/vnd.databricks.v1+output": {
       "addedWidgets": {},
       "aggData": [],
       "aggError": "",
       "aggOverflow": false,
       "aggSchema": [],
       "aggSeriesLimitReached": false,
       "aggType": "",
       "arguments": {},
       "columnCustomDisplayInfos": {},
       "data": [
        [
         7528,
         "Albania",
         [
          -89.9787,
          -173.293
         ],
         "2020-08-28T03:52:47.000+0000"
        ],
        [
         2863,
         "Armenia",
         [
          -5.34445,
          -177.924
         ],
         "2020-04-27T13:34:16.000+0000"
        ],
        [
         5730,
         "Colombia",
         [
          -77.015,
          -101.437
         ],
         "2021-04-19T17:37:03.000+0000"
        ],
        [
         7528,
         "Albania",
         [
          -89.9787,
          -173.293
         ],
         "2020-08-28T03:52:47.000+0000"
        ],
        [
         2863,
         "Armenia",
         [
          -5.34445,
          -177.924
         ],
         "2020-04-27T13:34:16.000+0000"
        ],
        [
         5730,
         "Colombia",
         [
          -77.015,
          -101.437
         ],
         "2021-04-19T17:37:03.000+0000"
        ],
        [
         8304,
         "French Guiana",
         [
          -28.8852,
          -164.87
         ],
         "2019-09-13T04:50:29.000+0000"
        ],
        [
         8731,
         "Aruba",
         [
          -83.104,
          -171.302
         ],
         "2020-07-17T04:39:09.000+0000"
        ],
        [
         1313,
         "Maldives",
         [
          77.0447,
          61.9119
         ],
         "2018-06-26T02:39:25.000+0000"
        ],
        [
         4315,
         "Cote d'Ivoire",
         [
          -45.8508,
          66.1003
         ],
         "2019-12-15T03:51:28.000+0000"
        ],
        [
         10794,
         "Cocos (Keeling) Islands",
         [
          -89.5236,
          -154.567
         ],
         "2022-01-01T02:26:50.000+0000"
        ],
        [
         5494,
         "Bulgaria",
         [
          -82.6768,
          -129.202
         ],
         "2021-07-21T02:02:35.000+0000"
        ],
        [
         7528,
         "Albania",
         [
          -89.9787,
          -173.293
         ],
         "2020-08-28T03:52:47.000+0000"
        ],
        [
         2863,
         "Armenia",
         [
          -5.34445,
          -177.924
         ],
         "2020-04-27T13:34:16.000+0000"
        ],
        [
         5730,
         "Colombia",
         [
          -77.015,
          -101.437
         ],
         "2021-04-19T17:37:03.000+0000"
        ],
        [
         8304,
         "French Guiana",
         [
          -28.8852,
          -164.87
         ],
         "2019-09-13T04:50:29.000+0000"
        ],
        [
         8731,
         "Aruba",
         [
          -83.104,
          -171.302
         ],
         "2020-07-17T04:39:09.000+0000"
        ],
        [
         1313,
         "Maldives",
         [
          77.0447,
          61.9119
         ],
         "2018-06-26T02:39:25.000+0000"
        ],
        [
         4315,
         "Cote d'Ivoire",
         [
          -45.8508,
          66.1003
         ],
         "2019-12-15T03:51:28.000+0000"
        ],
        [
         10794,
         "Cocos (Keeling) Islands",
         [
          -89.5236,
          -154.567
         ],
         "2022-01-01T02:26:50.000+0000"
        ],
        [
         5494,
         "Bulgaria",
         [
          -82.6768,
          -129.202
         ],
         "2021-07-21T02:02:35.000+0000"
        ],
        [
         5069,
         "Azerbaijan",
         [
          -63.0063,
          -157.474
         ],
         "2021-03-20T09:32:44.000+0000"
        ],
        [
         2923,
         "Cote d'Ivoire",
         [
          -84.6302,
          -164.507
         ],
         "2019-09-08T22:53:09.000+0000"
        ],
        [
         3089,
         "Albania",
         [
          -89.9787,
          -173.293
         ],
         "2018-02-28T05:31:29.000+0000"
        ],
        [
         6063,
         "Anguilla",
         [
          -89.1797,
          -174.015
         ],
         "2021-07-20T09:02:47.000+0000"
        ],
        [
         3454,
         "Cambodia",
         [
          -0.375174,
          49.8106
         ],
         "2021-07-25T02:20:29.000+0000"
        ],
        [
         7554,
         "Sudan",
         [
          -51.2172,
          -77.9768
         ],
         "2019-03-20T03:15:07.000+0000"
        ],
        [
         6145,
         "Mozambique",
         [
          -65.9079,
          -143.845
         ],
         "2019-12-05T02:09:44.000+0000"
        ],
        [
         10625,
         "Jamaica",
         [
          -84.4944,
          -81.0613
         ],
         "2018-07-13T11:51:15.000+0000"
        ],
        [
         2959,
         "Angola",
         [
          -68.0095,
          -157.227
         ],
         "2019-08-19T08:22:02.000+0000"
        ],
        [
         9875,
         "Barbados",
         [
          -74.3382,
          -110.484
         ],
         "2020-03-20T13:03:18.000+0000"
        ],
        [
         2418,
         "Antarctica (the territory South of 60 deg S)",
         [
          -88.4642,
          -171.061
         ],
         "2022-05-27T11:30:59.000+0000"
        ],
        [
         3156,
         "Armenia",
         [
          -84.738,
          -160.795
         ],
         "2018-01-13T19:33:49.000+0000"
        ],
        [
         428,
         "Bangladesh",
         [
          -83.4105,
          -150.788
         ],
         "2020-09-27T18:46:41.000+0000"
        ],
        [
         7343,
         "Australia",
         [
          -65.4428,
          -161.684
         ],
         "2018-08-06T12:17:07.000+0000"
        ],
        [
         2074,
         "Central African Republic",
         [
          -52.3213,
          -50.11
         ],
         "2019-11-03T05:41:59.000+0000"
        ],
        [
         9979,
         "Dominican Republic",
         [
          14.9967,
          -120.682
         ],
         "2018-07-18T19:01:46.000+0000"
        ],
        [
         10138,
         "Austria",
         [
          -72.142,
          -74.3545
         ],
         "2019-08-03T00:59:29.000+0000"
        ],
        [
         9672,
         "India",
         [
          79.4658,
          -69.4133
         ],
         "2019-11-03T13:15:52.000+0000"
        ]
       ],
       "datasetInfos": [],
       "dbfsResultPath": null,
       "isJsonSchema": true,
       "metadata": {
        "isDbfsCommandResult": false
       },
       "overflow": false,
       "plotOptions": {
        "customPlotOptions": {},
        "displayType": "table",
        "pivotAggregation": null,
        "pivotColumns": null,
        "xColumns": null,
        "yColumns": null
       },
       "removedWidgets": [],
       "schema": [
        {
         "metadata": "{}",
         "name": "ind",
         "type": "\"long\""
        },
        {
         "metadata": "{}",
         "name": "country",
         "type": "\"string\""
        },
        {
         "metadata": "{}",
         "name": "coordinates",
         "type": "{\"type\":\"array\",\"elementType\":\"double\",\"containsNull\":true}"
        },
        {
         "metadata": "{}",
         "name": "timestamp",
         "type": "\"timestamp\""
        }
       ],
       "type": "table"
      }
     },
     "output_type": "display_data"
    }
   ],
   "source": [
    "%run \n",
    "./clean-streaming-data-geo"
   ]
  },
  {
   "cell_type": "code",
   "execution_count": null,
   "metadata": {
    "application/vnd.databricks.v1+cell": {
     "cellMetadata": {
      "byteLimit": 2048000,
      "rowLimit": 10000
     },
     "inputWidgets": {},
     "nuid": "26165304-4606-467a-9708-ca48918a5c4a",
     "showTitle": false,
     "title": ""
    }
   },
   "outputs": [
    {
     "data": {
      "text/html": [
       "<style scoped>\n",
       "  .ansiout {\n",
       "    display: block;\n",
       "    unicode-bidi: embed;\n",
       "    white-space: pre-wrap;\n",
       "    word-wrap: break-word;\n",
       "    word-break: break-all;\n",
       "    font-family: \"Menlo\", \"Monaco\", \"Consolas\", \"Ubuntu Mono\", \"Source Code Pro\", monospace;\n",
       "    font-size: 13px;\n",
       "    color: #555;\n",
       "    margin-left: 4px;\n",
       "    line-height: 19px;\n",
       "  }\n",
       "</style>\n",
       "<div class=\"ansiout\">PostData Cleaning init\n",
       "</div>"
      ]
     },
     "metadata": {
      "application/vnd.databricks.v1+output": {
       "addedWidgets": {},
       "arguments": {},
       "data": "<div class=\"ansiout\">PostData Cleaning init\n</div>",
       "datasetInfos": [],
       "metadata": {},
       "removedWidgets": [],
       "type": "html"
      }
     },
     "output_type": "display_data"
    }
   ],
   "source": [
    "%run \n",
    "./clean-streaming-data-pin"
   ]
  },
  {
   "cell_type": "code",
   "execution_count": null,
   "metadata": {
    "application/vnd.databricks.v1+cell": {
     "cellMetadata": {
      "byteLimit": 2048000,
      "rowLimit": 10000
     },
     "inputWidgets": {},
     "nuid": "b01411a6-d2c6-4cfa-b227-896a528a49c9",
     "showTitle": false,
     "title": ""
    }
   },
   "outputs": [
    {
     "data": {
      "text/html": [
       "<style scoped>\n",
       "  .table-result-container {\n",
       "    max-height: 300px;\n",
       "    overflow: auto;\n",
       "  }\n",
       "  table, th, td {\n",
       "    border: 1px solid black;\n",
       "    border-collapse: collapse;\n",
       "  }\n",
       "  th, td {\n",
       "    padding: 5px;\n",
       "  }\n",
       "  th {\n",
       "    text-align: left;\n",
       "  }\n",
       "</style><div class='table-result-container'><table class='table-result'><thead style='background-color: white'><tr><th>ind</th><th>unique_id</th><th>title</th><th>description</th><th>follower_count</th><th>poster_name</th><th>tag_list</th><th>is_image_or_video</th><th>image_src</th><th>save_location</th><th>category</th></tr></thead><tbody><tr><td>7528</td><td>fbe53c66-3442-4773-b19e-d3ec6f54dddf</td><td>null</td><td>null</td><td>null</td><td>null</td><td>null</td><td>multi-video(story page format)</td><td>null</td><td>/data/mens-fashion</td><td>mens-fashion</td></tr><tr><td>2863</td><td>9bf39437-42a6-4f02-99a0-9a0383d8cd70</td><td>25 super fun summer crafts for kids - of life and lisa</td><td>keep the kids busy this summer with these easy diy crafts and projects. creative and…</td><td>124000</td><td>of life & lisa | lifestyle blog</td><td>summer crafts for kids,fun crafts for kids,summer kids,toddler crafts,crafts to do,diy for kids,summer snow,diys for summer,craft ideas for girls</td><td>image</td><td>https://i.pinimg.com/originals/b3/bc/e2/b3bce2964e8c8975387b39660eed5f16.jpg</td><td>/data/diy-and-crafts</td><td>diy-and-crafts</td></tr><tr><td>5730</td><td>1e1f0c8b-9fcf-460b-9154-c775827206eb</td><td>island oasis coupon organizer</td><td>description coupon organizer in a fun colorful fabric -island oasis, great size for the \"basic\" couponer - holds up to 500 coupons with ease, and is made long enough so that you… </td><td>0</td><td>consuelo aguirre</td><td>grocery items,grocery coupons,care organization,coupon organization,extreme couponing,couponing 101,life binder,save my money,love coupons</td><td>image</td><td>https://i.pinimg.com/originals/65/bb/ea/65bbeaf458907bb079317d8303c4fa0e.jpg</td><td>/data/finance</td><td>finance</td></tr><tr><td>7528</td><td>fbe53c66-3442-4773-b19e-d3ec6f54dddf</td><td>null</td><td>null</td><td>null</td><td>null</td><td>null</td><td>multi-video(story page format)</td><td>null</td><td>/data/mens-fashion</td><td>mens-fashion</td></tr><tr><td>2863</td><td>9bf39437-42a6-4f02-99a0-9a0383d8cd70</td><td>25 super fun summer crafts for kids - of life and lisa</td><td>keep the kids busy this summer with these easy diy crafts and projects. creative and…</td><td>124000</td><td>of life & lisa | lifestyle blog</td><td>summer crafts for kids,fun crafts for kids,summer kids,toddler crafts,crafts to do,diy for kids,summer snow,diys for summer,craft ideas for girls</td><td>image</td><td>https://i.pinimg.com/originals/b3/bc/e2/b3bce2964e8c8975387b39660eed5f16.jpg</td><td>/data/diy-and-crafts</td><td>diy-and-crafts</td></tr><tr><td>5730</td><td>1e1f0c8b-9fcf-460b-9154-c775827206eb</td><td>island oasis coupon organizer</td><td>description coupon organizer in a fun colorful fabric -island oasis, great size for the \"basic\" couponer - holds up to 500 coupons with ease, and is made long enough so that you… </td><td>0</td><td>consuelo aguirre</td><td>grocery items,grocery coupons,care organization,coupon organization,extreme couponing,couponing 101,life binder,save my money,love coupons</td><td>image</td><td>https://i.pinimg.com/originals/65/bb/ea/65bbeaf458907bb079317d8303c4fa0e.jpg</td><td>/data/finance</td><td>finance</td></tr><tr><td>8304</td><td>5b6d0913-25e4-43ab-839d-85d5516f78a4</td><td>the #1 reason you’re not his priority anymore - matthew coast</td><td>#lovequotes #matchmaker #matchmadeinheaven #loveyourself #respectyourself</td><td>51000</td><td>commitment connection</td><td>wise quotes,quotable quotes,words quotes,wise words,quotes to live by,great quotes,motivational quotes,inspirational quotes,funny quotes</td><td>image</td><td>https://i.pinimg.com/originals/c6/64/ee/c664ee71524fb5a6e7b7b49233f93b43.png</td><td>/data/quotes</td><td>quotes</td></tr><tr><td>8731</td><td>ea760f71-febf-4023-b592-d17396659039</td><td>20 koi fish tattoos for lucky men</td><td>koi fish tattoos are a popular choice for men who want to make a statement, thanks to their rich symbolism and bold design.</td><td>211000</td><td>thetrendspotter</td><td>dr tattoo,wörter tattoos,pisces tattoos,tatoo art,dream tattoos,dope tattoos,mini tattoos,finger tattoos,body art tattoos</td><td>image</td><td>https://i.pinimg.com/originals/8a/0c/0a/8a0c0a7b6236565c519acd41ad1a52c0.jpg</td><td>/data/tattoos</td><td>tattoos</td></tr><tr><td>1313</td><td>44662045-e891-4821-8a19-ebe7eedd371a</td><td>liquid lash extensions mascara</td><td>instantly create the look of lash extensions with this award-winning, best-selling mascara that won't clump, flake or smudge. available in 3 shades!</td><td>43000</td><td>thrive causemetics</td><td>null</td><td>video</td><td>https://i.pinimg.com/videos/thumbnails/originals/69/84/e2/6984e20f3e262098fa9c0614c3453254.0000001.jpg</td><td>/data/beauty</td><td>beauty</td></tr><tr><td>4315</td><td>21b59ba9-829d-4c33-8c27-4cd4c56d26b8</td><td>podcasts for teachers or parents of teenagers</td><td>podcasts for teachers or parents of teenagers: teaching teens middle school and high school can feel joyful and rewarding most days, but can also frustrate you with one challeng… </td><td>25000</td><td>math giraffe</td><td>middle school classroom,high school students,high school teachers,middle school tips,high school counseling,ela classroom,high school science,future classroom,google classroom</td><td>image</td><td>https://i.pinimg.com/originals/50/19/31/501931a27ee4d076658980851b995b2c.jpg</td><td>/data/education</td><td>education</td></tr><tr><td>10794</td><td>c4bd2577-a7bb-4409-bb7a-17d5ed7e1cf1</td><td>tirebuyer</td><td>nissan gt-r. sick.</td><td>437</td><td>ray uyemura</td><td>lowrider,old vintage cars,antique cars,austin martin,nissan gtr black,jaguar,1959 cadillac,cadillac ct6,old school cars</td><td>image</td><td>https://i.pinimg.com/originals/0d/29/9f/0d299f3df020395aa7ce8387f40fbeed.jpg</td><td>/data/vehicles</td><td>vehicles</td></tr><tr><td>5494</td><td>8fb2af68-543b-4639-8119-de33d28706ed</td><td>dave ramsey's 7 baby steps: what are they and will they work for you</td><td>if you love budgeting, make sure to give dave ramsey's 7 baby steps a try. follow these steps to begin your debt snowball, build an emergency fund, invest and reach riches. i ca… </td><td>26000</td><td>living low key | save money, make money, & frugal living</td><td>financial peace,financial tips,saving money quotes,total money makeover,budgeting finances,money management,wealth management,personal finance,making ideas</td><td>image</td><td>https://i.pinimg.com/originals/1e/9d/90/1e9d906e4e150e3b95187f3b76ea7c71.png</td><td>/data/finance</td><td>finance</td></tr><tr><td>7528</td><td>fbe53c66-3442-4773-b19e-d3ec6f54dddf</td><td>null</td><td>null</td><td>null</td><td>null</td><td>null</td><td>multi-video(story page format)</td><td>null</td><td>/data/mens-fashion</td><td>mens-fashion</td></tr><tr><td>2863</td><td>9bf39437-42a6-4f02-99a0-9a0383d8cd70</td><td>25 super fun summer crafts for kids - of life and lisa</td><td>keep the kids busy this summer with these easy diy crafts and projects. creative and…</td><td>124000</td><td>of life & lisa | lifestyle blog</td><td>summer crafts for kids,fun crafts for kids,summer kids,toddler crafts,crafts to do,diy for kids,summer snow,diys for summer,craft ideas for girls</td><td>image</td><td>https://i.pinimg.com/originals/b3/bc/e2/b3bce2964e8c8975387b39660eed5f16.jpg</td><td>/data/diy-and-crafts</td><td>diy-and-crafts</td></tr><tr><td>5730</td><td>1e1f0c8b-9fcf-460b-9154-c775827206eb</td><td>island oasis coupon organizer</td><td>description coupon organizer in a fun colorful fabric -island oasis, great size for the \"basic\" couponer - holds up to 500 coupons with ease, and is made long enough so that you… </td><td>0</td><td>consuelo aguirre</td><td>grocery items,grocery coupons,care organization,coupon organization,extreme couponing,couponing 101,life binder,save my money,love coupons</td><td>image</td><td>https://i.pinimg.com/originals/65/bb/ea/65bbeaf458907bb079317d8303c4fa0e.jpg</td><td>/data/finance</td><td>finance</td></tr><tr><td>8304</td><td>5b6d0913-25e4-43ab-839d-85d5516f78a4</td><td>the #1 reason you’re not his priority anymore - matthew coast</td><td>#lovequotes #matchmaker #matchmadeinheaven #loveyourself #respectyourself</td><td>51000</td><td>commitment connection</td><td>wise quotes,quotable quotes,words quotes,wise words,quotes to live by,great quotes,motivational quotes,inspirational quotes,funny quotes</td><td>image</td><td>https://i.pinimg.com/originals/c6/64/ee/c664ee71524fb5a6e7b7b49233f93b43.png</td><td>/data/quotes</td><td>quotes</td></tr><tr><td>8731</td><td>ea760f71-febf-4023-b592-d17396659039</td><td>20 koi fish tattoos for lucky men</td><td>koi fish tattoos are a popular choice for men who want to make a statement, thanks to their rich symbolism and bold design.</td><td>211000</td><td>thetrendspotter</td><td>dr tattoo,wörter tattoos,pisces tattoos,tatoo art,dream tattoos,dope tattoos,mini tattoos,finger tattoos,body art tattoos</td><td>image</td><td>https://i.pinimg.com/originals/8a/0c/0a/8a0c0a7b6236565c519acd41ad1a52c0.jpg</td><td>/data/tattoos</td><td>tattoos</td></tr><tr><td>1313</td><td>44662045-e891-4821-8a19-ebe7eedd371a</td><td>liquid lash extensions mascara</td><td>instantly create the look of lash extensions with this award-winning, best-selling mascara that won't clump, flake or smudge. available in 3 shades!</td><td>43000</td><td>thrive causemetics</td><td>null</td><td>video</td><td>https://i.pinimg.com/videos/thumbnails/originals/69/84/e2/6984e20f3e262098fa9c0614c3453254.0000001.jpg</td><td>/data/beauty</td><td>beauty</td></tr><tr><td>4315</td><td>21b59ba9-829d-4c33-8c27-4cd4c56d26b8</td><td>podcasts for teachers or parents of teenagers</td><td>podcasts for teachers or parents of teenagers: teaching teens middle school and high school can feel joyful and rewarding most days, but can also frustrate you with one challeng… </td><td>25000</td><td>math giraffe</td><td>middle school classroom,high school students,high school teachers,middle school tips,high school counseling,ela classroom,high school science,future classroom,google classroom</td><td>image</td><td>https://i.pinimg.com/originals/50/19/31/501931a27ee4d076658980851b995b2c.jpg</td><td>/data/education</td><td>education</td></tr><tr><td>10794</td><td>c4bd2577-a7bb-4409-bb7a-17d5ed7e1cf1</td><td>tirebuyer</td><td>nissan gt-r. sick.</td><td>437</td><td>ray uyemura</td><td>lowrider,old vintage cars,antique cars,austin martin,nissan gtr black,jaguar,1959 cadillac,cadillac ct6,old school cars</td><td>image</td><td>https://i.pinimg.com/originals/0d/29/9f/0d299f3df020395aa7ce8387f40fbeed.jpg</td><td>/data/vehicles</td><td>vehicles</td></tr><tr><td>5494</td><td>8fb2af68-543b-4639-8119-de33d28706ed</td><td>dave ramsey's 7 baby steps: what are they and will they work for you</td><td>if you love budgeting, make sure to give dave ramsey's 7 baby steps a try. follow these steps to begin your debt snowball, build an emergency fund, invest and reach riches. i ca… </td><td>26000</td><td>living low key | save money, make money, & frugal living</td><td>financial peace,financial tips,saving money quotes,total money makeover,budgeting finances,money management,wealth management,personal finance,making ideas</td><td>image</td><td>https://i.pinimg.com/originals/1e/9d/90/1e9d906e4e150e3b95187f3b76ea7c71.png</td><td>/data/finance</td><td>finance</td></tr><tr><td>5069</td><td>b75b6f87-deb3-444f-b29e-ce9161b2df49</td><td>the vault: curated & refined wedding inspiration</td><td>sacramento california wedding 2 chic events & design jodi yorston photography wilson vineyards barn miosa couture yellow barn vineyard outdoor candles diy</td><td>6000000</td><td>style me pretty</td><td>60th anniversary parties,anniversary decorations,golden anniversary,25th wedding anniversary,anniversary pictures,anniversary ideas,birthday decorations,event planning design,event design</td><td>image</td><td>https://i.pinimg.com/originals/7e/45/90/7e45905fefa36347e83333fd6d091140.jpg</td><td>/data/event-planning</td><td>event-planning</td></tr><tr><td>2923</td><td>52fa3af5-24a4-4ccb-8f17-9c3eb12327ee</td><td>ufo paper plate craft</td><td>a fun space activity for kids. preshoolers and kindergartners will love making their own alien spacecraft!</td><td>192000</td><td>the crafting chicks</td><td>paper plate crafts for kids,fun crafts for kids,summer crafts,toddler crafts,art for kids,outer space crafts for kids,kid crafts,space kids,back to school crafts for kids</td><td>image</td><td>https://i.pinimg.com/originals/6f/e8/aa/6fe8aa405513c6d2f77b5f47d17cdce8.jpg</td><td>/data/diy-and-crafts</td><td>diy-and-crafts</td></tr><tr><td>3089</td><td>88f9227e-88d0-4b1c-b0be-bcfc3028b8e2</td><td>null</td><td>null</td><td>null</td><td>null</td><td>null</td><td>multi-video(story page format)</td><td>null</td><td>/data/diy-and-crafts</td><td>diy-and-crafts</td></tr><tr><td>6063</td><td>60693727-4927-4bd6-a8c5-096a392d63e6</td><td>41 gorgeous fall decor ideas for your home - chaylor & mads</td><td>beautiful and easy ways to update every room in your home with fall decor. plus, my favorite finds in fall decor for 2020!</td><td>92000</td><td>kristen | lifestyle, mom tips & teacher stuff blog</td><td>fall home decor,autumn home,fall decor outdoor,front porch fall decor,home decor ideas,porch ideas for fall,fall outdoor decorating,decorating ideas for fall,fall front doors</td><td>image</td><td>https://i.pinimg.com/originals/e5/ae/dc/e5aedc14ce557e3a69f672e0f8c88f6e.png</td><td>/data/home-decor</td><td>home-decor</td></tr><tr><td>3454</td><td>46bd3f86-b09d-4e29-9033-7ff2df595e51</td><td>what can you use to color resin?</td><td>helpful resources – check out my resin colorants resources page here with links to all the products mentioned in this article (and more). let me know if you have any that you lo… </td><td>6000</td><td>mixed media crafts</td><td>epoxy resin art,diy resin art,diy resin crafts,resin molds,ice resin,resin pour,diy epoxy,diy resin painting,diy resin dice</td><td>image</td><td>https://i.pinimg.com/originals/d4/12/78/d4127833023ca32600571ddca16f1556.jpg</td><td>/data/diy-and-crafts</td><td>diy-and-crafts</td></tr><tr><td>7554</td><td>c6fa12f4-0d4a-4b07-a335-5bf9f37f8281</td><td>craig style</td><td>imgentleboss: “ - more about men’s fashion at @gentleboss - gb’s facebook - ”</td><td>940</td><td>ielylike ..✿◕‿◕✿ஐ✿◕‿◕✿</td><td>mens fashion blog,look fashion,autumn fashion,fashion news,fashion sale,80s fashion,paris fashion,runway fashion,fashion trends</td><td>image</td><td>https://i.pinimg.com/originals/e7/6e/8e/e76e8ed6cc838b84a934c6948a5caff7.jpg</td><td>/data/mens-fashion</td><td>mens-fashion</td></tr><tr><td>6145</td><td>82e13a07-db99-43a3-b1c0-89a4b75821da</td><td>holiday mantle decor - @amazon & @target finds</td><td>holiday mantle decor, christmas decor, metallic mercury glass style christmas trees, eucalyptus vine, evergreen pine branches, white neutral holiday decor, cozy mantle for the h… </td><td>83000</td><td>stylin by aylin</td><td>winter home decor,christmas living room decor,living room decor cozy,christmas decor,cozy fireplace,rustic fireplace decor,fireplace decorations,rustic room,house decorations</td><td>image</td><td>https://i.pinimg.com/originals/9d/82/1a/9d821a80acd8f90c16454e978bd9b115.jpg</td><td>/data/home-decor</td><td>home-decor</td></tr><tr><td>10625</td><td>d31885b7-742a-4e2a-bbb7-ac5f9d334340</td><td>jaguar type e</td><td>1937 jaguar ss100 - 2 1/2 litre roadster, one of the most sought after pre-war sports cars</td><td>8000</td><td>hobbydb</td><td>jaguar type e,jaguar xk,jaguar cars,jaguar roadster,jaguar sport,retro cars,vintage cars,antique cars,british sports cars</td><td>image</td><td>https://i.pinimg.com/originals/26/81/a7/2681a71bd0c8f7fd0ab79c455338a49a.jpg</td><td>/data/vehicles</td><td>vehicles</td></tr><tr><td>2959</td><td>439cac4b-18e8-4aaa-88c5-edb26a701111</td><td>the cutest toilet paper crafts</td><td>one thing i love about crafts is how the evolve! these toilet paper rolls are adorable and modern. i love that something as simple as a recycled toilet paper roll can be taken t… </td><td>502000</td><td>craftgossip.com</td><td>toilet paper roll crafts,cardboard crafts,diy paper,paper crafting,toilet paper rolls,cardboard playhouse,paper art,kids crafts,toddler crafts</td><td>image</td><td>https://i.pinimg.com/originals/c6/cd/0d/c6cd0d04da9cfc11566cfd34eeb1f918.jpg</td><td>/data/diy-and-crafts</td><td>diy-and-crafts</td></tr><tr><td>9875</td><td>782dcbad-ff91-40a6-ba60-216efe29adb7</td><td>european bucket list: 35 things not to miss when traveling europe</td><td>35 european bucket list destinations for any traveler heading to europe. from cinque terre, italy to iceland - there are so many amazing sites to see in europe.</td><td>28000</td><td>nicki </td><td>backpacking europe,europe travel guide,travel guides,travel packing,traveling europe,travelling,travel backpack,budget travel,2 week europe itinerary</td><td>image</td><td>https://i.pinimg.com/originals/71/04/1a/71041ad83ede43d9665741e719c58a86.jpg</td><td>/data/travel</td><td>travel</td></tr><tr><td>2418</td><td>da8745a6-5160-46c4-877d-181d50a729fd</td><td>100 diy christmas centerpieces you'll love to decorate your home with for the christmas season - hike n dip</td><td>here are the best diy christmas centerpieces ideas perfect for your christmas & holiday season home decor. from christmas vignettes to table centerpieces.</td><td>500000</td><td>hikendip</td><td>farmhouse christmas decor,rustic christmas,christmas time,vintage christmas,xmas,primitive christmas crafts,christmas vignette,indoor christmas decorations,diy christmas ornaments</td><td>image</td><td>https://i.pinimg.com/originals/aa/6d/0f/aa6d0f44d7c1c96b998cb9aa6c4446b8.png</td><td>/data/christmas</td><td>christmas</td></tr><tr><td>3156</td><td>fa6e31a4-18c2-4eca-a6d8-e903eee2c2a4</td><td>handprint reindeer ornaments - crafty morning</td><td>this post may contain affiliate links, read our disclosure policy for more information. as an amazon associate i earn from qualifying purchases, thank you! make some cute handpr… </td><td>892000</td><td>michelle {craftymorning.com}</td><td>christmas gifts for parents,christmas decorations for kids,christmas crafts for toddlers,preschool christmas,christmas crafts for gifts,christmas activities,toddler crafts,kids christmas,christmas feeling</td><td>image</td><td>https://i.pinimg.com/originals/ff/fe/38/fffe384f3ec18a0d87cb2d80cc8c1499.jpg</td><td>/data/diy-and-crafts</td><td>diy-and-crafts</td></tr><tr><td>428</td><td>610b3f83-9fe0-469d-946c-d16b577fca71</td><td>fashion designer isaac mizrahi’s updated 1930s new york city apartment</td><td>fashion designer issac mizrahi’s greenwich village home is an amalgamation of three apartments that was 20 years in the making</td><td>3000000</td><td>architectural digest</td><td>modern art,contemporary art,contemporary kitchens,contemporary bedroom,new york city apartment,manhattan apartment,art moderne,architectural digest,painting inspiration</td><td>image</td><td>https://i.pinimg.com/originals/f4/6c/54/f46c546a2e480022a42d842b7dca157e.jpg</td><td>/data/art</td><td>art</td></tr><tr><td>7343</td><td>b8c63a95-6fe8-4d7f-9455-1eef3462fee0</td><td>this fashion rule is nonsense, and we should all forget about it</td><td>black and brown outfits you need to try this fall season. the trick with black and brown outfits is to know how to combine colors, fabrics, and shapes to get a cohesive look. so… </td><td>1000000</td><td>cultura colectiva</td><td>winter outfits men,stylish mens outfits,casual outfits,men casual,smart casual,outfits for men,fall outfits,mens winter boots,business casual men</td><td>image</td><td>https://i.pinimg.com/originals/3e/49/09/3e4909c0ccc4dbba3cad83d97eab4a61.png</td><td>/data/mens-fashion</td><td>mens-fashion</td></tr><tr><td>2074</td><td>86ed09a7-842d-496d-9501-010c654eb340</td><td>35 christmas decorating ideas we bet you haven't thought of</td><td>20 christmas decorating ideas we bet you haven't thought of via @purewow</td><td>868000</td><td>purewow</td><td>holiday centerpieces,xmas decorations,centerpiece ideas,table centerpieces,valentine decorations,wedding centerpieces,outdoor decorations,christmas centerpieces with candles,christmas dining table decorations</td><td>image</td><td>https://i.pinimg.com/originals/e9/b9/f0/e9b9f01cc3b2cf41948b45854335396c.jpg</td><td>/data/christmas</td><td>christmas</td></tr><tr><td>9979</td><td>2b2abc85-fc51-481f-8ae6-17681993da28</td><td>paris in the summer. 10 fun things to do in paris in the summertime • petite in paris</td><td>are you traveling to paris during the summer? find out what to do in paris, france during the summer. fun summertime activities in paris. enjoy the incredible outdoors when trav… </td><td>3000</td><td>petite in paris</td><td>torre eiffel paris,tour eiffel,picnic in paris,hello france,voyage europe,destination voyage,beautiful places to travel,travel aesthetic,paris travel</td><td>image</td><td>https://i.pinimg.com/originals/6c/4c/90/6c4c90bba27ebf8c8bfe4c1acfb9f07a.jpg</td><td>/data/travel</td><td>travel</td></tr><tr><td>10138</td><td>927c4658-cc3f-4b92-9b5c-70743d0c238d</td><td>14 amazing things to do in costa rica | volcanoes, waterfalls, wildlife and more</td><td>this costa rica itinerary is the ultimate guide to spending two weeks in costa rica. find out about visiting la fortuna, arenal, monteverde, naranjo, corcovado national park, or… </td><td>10000</td><td>wanderlust chloe ✈️ travel guides, inspo and adventure travel ✈️</td><td>costa rica travel,rio celeste costa rica,dream vacations,vacation spots,vacation travel,travel pictures,travel photos,fortuna costa rica,costa rica pictures</td><td>image</td><td>https://i.pinimg.com/originals/30/93/cb/3093cb01d9de2d125fda8ba5e3e41946.jpg</td><td>/data/travel</td><td>travel</td></tr><tr><td>9672</td><td>1a5050a4-ac82-472c-aeff-3457de8bbee9</td><td>lake moraine, banff, canada</td><td>on our calgary to vancouver road trip we got to spend time in banff, canada. we visited the stunning lake moraine as well as lake louise and plenty of other of canada's natural… </td><td>7000</td><td>travel mad mum</td><td>beautiful places to travel,cool places to visit,beautiful roads,beautiful scenery,wonderful places,lac moraine,moraine lake,lac louise,natur wallpaper</td><td>video</td><td>https://i.pinimg.com/videos/thumbnails/originals/57/9d/52/579d52242ae5609978c754d393e44e81.0000001.jpg</td><td>/data/travel</td><td>travel</td></tr></tbody></table></div>"
      ]
     },
     "metadata": {
      "application/vnd.databricks.v1+output": {
       "addedWidgets": {},
       "aggData": [],
       "aggError": "",
       "aggOverflow": false,
       "aggSchema": [],
       "aggSeriesLimitReached": false,
       "aggType": "",
       "arguments": {},
       "columnCustomDisplayInfos": {},
       "data": [
        [
         7528,
         "fbe53c66-3442-4773-b19e-d3ec6f54dddf",
         null,
         null,
         null,
         null,
         null,
         "multi-video(story page format)",
         null,
         "/data/mens-fashion",
         "mens-fashion"
        ],
        [
         2863,
         "9bf39437-42a6-4f02-99a0-9a0383d8cd70",
         "25 super fun summer crafts for kids - of life and lisa",
         "keep the kids busy this summer with these easy diy crafts and projects. creative and…",
         124000,
         "of life & lisa | lifestyle blog",
         "summer crafts for kids,fun crafts for kids,summer kids,toddler crafts,crafts to do,diy for kids,summer snow,diys for summer,craft ideas for girls",
         "image",
         "https://i.pinimg.com/originals/b3/bc/e2/b3bce2964e8c8975387b39660eed5f16.jpg",
         "/data/diy-and-crafts",
         "diy-and-crafts"
        ],
        [
         5730,
         "1e1f0c8b-9fcf-460b-9154-c775827206eb",
         "island oasis coupon organizer",
         "description coupon organizer in a fun colorful fabric -island oasis, great size for the \"basic\" couponer - holds up to 500 coupons with ease, and is made long enough so that you… ",
         0,
         "consuelo aguirre",
         "grocery items,grocery coupons,care organization,coupon organization,extreme couponing,couponing 101,life binder,save my money,love coupons",
         "image",
         "https://i.pinimg.com/originals/65/bb/ea/65bbeaf458907bb079317d8303c4fa0e.jpg",
         "/data/finance",
         "finance"
        ],
        [
         7528,
         "fbe53c66-3442-4773-b19e-d3ec6f54dddf",
         null,
         null,
         null,
         null,
         null,
         "multi-video(story page format)",
         null,
         "/data/mens-fashion",
         "mens-fashion"
        ],
        [
         2863,
         "9bf39437-42a6-4f02-99a0-9a0383d8cd70",
         "25 super fun summer crafts for kids - of life and lisa",
         "keep the kids busy this summer with these easy diy crafts and projects. creative and…",
         124000,
         "of life & lisa | lifestyle blog",
         "summer crafts for kids,fun crafts for kids,summer kids,toddler crafts,crafts to do,diy for kids,summer snow,diys for summer,craft ideas for girls",
         "image",
         "https://i.pinimg.com/originals/b3/bc/e2/b3bce2964e8c8975387b39660eed5f16.jpg",
         "/data/diy-and-crafts",
         "diy-and-crafts"
        ],
        [
         5730,
         "1e1f0c8b-9fcf-460b-9154-c775827206eb",
         "island oasis coupon organizer",
         "description coupon organizer in a fun colorful fabric -island oasis, great size for the \"basic\" couponer - holds up to 500 coupons with ease, and is made long enough so that you… ",
         0,
         "consuelo aguirre",
         "grocery items,grocery coupons,care organization,coupon organization,extreme couponing,couponing 101,life binder,save my money,love coupons",
         "image",
         "https://i.pinimg.com/originals/65/bb/ea/65bbeaf458907bb079317d8303c4fa0e.jpg",
         "/data/finance",
         "finance"
        ],
        [
         8304,
         "5b6d0913-25e4-43ab-839d-85d5516f78a4",
         "the #1 reason you’re not his priority anymore - matthew coast",
         "#lovequotes #matchmaker #matchmadeinheaven #loveyourself #respectyourself",
         51000,
         "commitment connection",
         "wise quotes,quotable quotes,words quotes,wise words,quotes to live by,great quotes,motivational quotes,inspirational quotes,funny quotes",
         "image",
         "https://i.pinimg.com/originals/c6/64/ee/c664ee71524fb5a6e7b7b49233f93b43.png",
         "/data/quotes",
         "quotes"
        ],
        [
         8731,
         "ea760f71-febf-4023-b592-d17396659039",
         "20 koi fish tattoos for lucky men",
         "koi fish tattoos are a popular choice for men who want to make a statement, thanks to their rich symbolism and bold design.",
         211000,
         "thetrendspotter",
         "dr tattoo,wörter tattoos,pisces tattoos,tatoo art,dream tattoos,dope tattoos,mini tattoos,finger tattoos,body art tattoos",
         "image",
         "https://i.pinimg.com/originals/8a/0c/0a/8a0c0a7b6236565c519acd41ad1a52c0.jpg",
         "/data/tattoos",
         "tattoos"
        ],
        [
         1313,
         "44662045-e891-4821-8a19-ebe7eedd371a",
         "liquid lash extensions mascara",
         "instantly create the look of lash extensions with this award-winning, best-selling mascara that won't clump, flake or smudge. available in 3 shades!",
         43000,
         "thrive causemetics",
         null,
         "video",
         "https://i.pinimg.com/videos/thumbnails/originals/69/84/e2/6984e20f3e262098fa9c0614c3453254.0000001.jpg",
         "/data/beauty",
         "beauty"
        ],
        [
         4315,
         "21b59ba9-829d-4c33-8c27-4cd4c56d26b8",
         "podcasts for teachers or parents of teenagers",
         "podcasts for teachers or parents of teenagers: teaching teens middle school and high school can feel joyful and rewarding most days, but can also frustrate you with one challeng… ",
         25000,
         "math giraffe",
         "middle school classroom,high school students,high school teachers,middle school tips,high school counseling,ela classroom,high school science,future classroom,google classroom",
         "image",
         "https://i.pinimg.com/originals/50/19/31/501931a27ee4d076658980851b995b2c.jpg",
         "/data/education",
         "education"
        ],
        [
         10794,
         "c4bd2577-a7bb-4409-bb7a-17d5ed7e1cf1",
         "tirebuyer",
         "nissan gt-r. sick.",
         437,
         "ray uyemura",
         "lowrider,old vintage cars,antique cars,austin martin,nissan gtr black,jaguar,1959 cadillac,cadillac ct6,old school cars",
         "image",
         "https://i.pinimg.com/originals/0d/29/9f/0d299f3df020395aa7ce8387f40fbeed.jpg",
         "/data/vehicles",
         "vehicles"
        ],
        [
         5494,
         "8fb2af68-543b-4639-8119-de33d28706ed",
         "dave ramsey's 7 baby steps: what are they and will they work for you",
         "if you love budgeting, make sure to give dave ramsey's 7 baby steps a try. follow these steps to begin your debt snowball, build an emergency fund, invest and reach riches. i ca… ",
         26000,
         "living low key | save money, make money, & frugal living",
         "financial peace,financial tips,saving money quotes,total money makeover,budgeting finances,money management,wealth management,personal finance,making ideas",
         "image",
         "https://i.pinimg.com/originals/1e/9d/90/1e9d906e4e150e3b95187f3b76ea7c71.png",
         "/data/finance",
         "finance"
        ],
        [
         7528,
         "fbe53c66-3442-4773-b19e-d3ec6f54dddf",
         null,
         null,
         null,
         null,
         null,
         "multi-video(story page format)",
         null,
         "/data/mens-fashion",
         "mens-fashion"
        ],
        [
         2863,
         "9bf39437-42a6-4f02-99a0-9a0383d8cd70",
         "25 super fun summer crafts for kids - of life and lisa",
         "keep the kids busy this summer with these easy diy crafts and projects. creative and…",
         124000,
         "of life & lisa | lifestyle blog",
         "summer crafts for kids,fun crafts for kids,summer kids,toddler crafts,crafts to do,diy for kids,summer snow,diys for summer,craft ideas for girls",
         "image",
         "https://i.pinimg.com/originals/b3/bc/e2/b3bce2964e8c8975387b39660eed5f16.jpg",
         "/data/diy-and-crafts",
         "diy-and-crafts"
        ],
        [
         5730,
         "1e1f0c8b-9fcf-460b-9154-c775827206eb",
         "island oasis coupon organizer",
         "description coupon organizer in a fun colorful fabric -island oasis, great size for the \"basic\" couponer - holds up to 500 coupons with ease, and is made long enough so that you… ",
         0,
         "consuelo aguirre",
         "grocery items,grocery coupons,care organization,coupon organization,extreme couponing,couponing 101,life binder,save my money,love coupons",
         "image",
         "https://i.pinimg.com/originals/65/bb/ea/65bbeaf458907bb079317d8303c4fa0e.jpg",
         "/data/finance",
         "finance"
        ],
        [
         8304,
         "5b6d0913-25e4-43ab-839d-85d5516f78a4",
         "the #1 reason you’re not his priority anymore - matthew coast",
         "#lovequotes #matchmaker #matchmadeinheaven #loveyourself #respectyourself",
         51000,
         "commitment connection",
         "wise quotes,quotable quotes,words quotes,wise words,quotes to live by,great quotes,motivational quotes,inspirational quotes,funny quotes",
         "image",
         "https://i.pinimg.com/originals/c6/64/ee/c664ee71524fb5a6e7b7b49233f93b43.png",
         "/data/quotes",
         "quotes"
        ],
        [
         8731,
         "ea760f71-febf-4023-b592-d17396659039",
         "20 koi fish tattoos for lucky men",
         "koi fish tattoos are a popular choice for men who want to make a statement, thanks to their rich symbolism and bold design.",
         211000,
         "thetrendspotter",
         "dr tattoo,wörter tattoos,pisces tattoos,tatoo art,dream tattoos,dope tattoos,mini tattoos,finger tattoos,body art tattoos",
         "image",
         "https://i.pinimg.com/originals/8a/0c/0a/8a0c0a7b6236565c519acd41ad1a52c0.jpg",
         "/data/tattoos",
         "tattoos"
        ],
        [
         1313,
         "44662045-e891-4821-8a19-ebe7eedd371a",
         "liquid lash extensions mascara",
         "instantly create the look of lash extensions with this award-winning, best-selling mascara that won't clump, flake or smudge. available in 3 shades!",
         43000,
         "thrive causemetics",
         null,
         "video",
         "https://i.pinimg.com/videos/thumbnails/originals/69/84/e2/6984e20f3e262098fa9c0614c3453254.0000001.jpg",
         "/data/beauty",
         "beauty"
        ],
        [
         4315,
         "21b59ba9-829d-4c33-8c27-4cd4c56d26b8",
         "podcasts for teachers or parents of teenagers",
         "podcasts for teachers or parents of teenagers: teaching teens middle school and high school can feel joyful and rewarding most days, but can also frustrate you with one challeng… ",
         25000,
         "math giraffe",
         "middle school classroom,high school students,high school teachers,middle school tips,high school counseling,ela classroom,high school science,future classroom,google classroom",
         "image",
         "https://i.pinimg.com/originals/50/19/31/501931a27ee4d076658980851b995b2c.jpg",
         "/data/education",
         "education"
        ],
        [
         10794,
         "c4bd2577-a7bb-4409-bb7a-17d5ed7e1cf1",
         "tirebuyer",
         "nissan gt-r. sick.",
         437,
         "ray uyemura",
         "lowrider,old vintage cars,antique cars,austin martin,nissan gtr black,jaguar,1959 cadillac,cadillac ct6,old school cars",
         "image",
         "https://i.pinimg.com/originals/0d/29/9f/0d299f3df020395aa7ce8387f40fbeed.jpg",
         "/data/vehicles",
         "vehicles"
        ],
        [
         5494,
         "8fb2af68-543b-4639-8119-de33d28706ed",
         "dave ramsey's 7 baby steps: what are they and will they work for you",
         "if you love budgeting, make sure to give dave ramsey's 7 baby steps a try. follow these steps to begin your debt snowball, build an emergency fund, invest and reach riches. i ca… ",
         26000,
         "living low key | save money, make money, & frugal living",
         "financial peace,financial tips,saving money quotes,total money makeover,budgeting finances,money management,wealth management,personal finance,making ideas",
         "image",
         "https://i.pinimg.com/originals/1e/9d/90/1e9d906e4e150e3b95187f3b76ea7c71.png",
         "/data/finance",
         "finance"
        ],
        [
         5069,
         "b75b6f87-deb3-444f-b29e-ce9161b2df49",
         "the vault: curated & refined wedding inspiration",
         "sacramento california wedding 2 chic events & design jodi yorston photography wilson vineyards barn miosa couture yellow barn vineyard outdoor candles diy",
         6000000,
         "style me pretty",
         "60th anniversary parties,anniversary decorations,golden anniversary,25th wedding anniversary,anniversary pictures,anniversary ideas,birthday decorations,event planning design,event design",
         "image",
         "https://i.pinimg.com/originals/7e/45/90/7e45905fefa36347e83333fd6d091140.jpg",
         "/data/event-planning",
         "event-planning"
        ],
        [
         2923,
         "52fa3af5-24a4-4ccb-8f17-9c3eb12327ee",
         "ufo paper plate craft",
         "a fun space activity for kids. preshoolers and kindergartners will love making their own alien spacecraft!",
         192000,
         "the crafting chicks",
         "paper plate crafts for kids,fun crafts for kids,summer crafts,toddler crafts,art for kids,outer space crafts for kids,kid crafts,space kids,back to school crafts for kids",
         "image",
         "https://i.pinimg.com/originals/6f/e8/aa/6fe8aa405513c6d2f77b5f47d17cdce8.jpg",
         "/data/diy-and-crafts",
         "diy-and-crafts"
        ],
        [
         3089,
         "88f9227e-88d0-4b1c-b0be-bcfc3028b8e2",
         null,
         null,
         null,
         null,
         null,
         "multi-video(story page format)",
         null,
         "/data/diy-and-crafts",
         "diy-and-crafts"
        ],
        [
         6063,
         "60693727-4927-4bd6-a8c5-096a392d63e6",
         "41 gorgeous fall decor ideas for your home - chaylor & mads",
         "beautiful and easy ways to update every room in your home with fall decor. plus, my favorite finds in fall decor for 2020!",
         92000,
         "kristen | lifestyle, mom tips & teacher stuff blog",
         "fall home decor,autumn home,fall decor outdoor,front porch fall decor,home decor ideas,porch ideas for fall,fall outdoor decorating,decorating ideas for fall,fall front doors",
         "image",
         "https://i.pinimg.com/originals/e5/ae/dc/e5aedc14ce557e3a69f672e0f8c88f6e.png",
         "/data/home-decor",
         "home-decor"
        ],
        [
         3454,
         "46bd3f86-b09d-4e29-9033-7ff2df595e51",
         "what can you use to color resin?",
         "helpful resources – check out my resin colorants resources page here with links to all the products mentioned in this article (and more). let me know if you have any that you lo… ",
         6000,
         "mixed media crafts",
         "epoxy resin art,diy resin art,diy resin crafts,resin molds,ice resin,resin pour,diy epoxy,diy resin painting,diy resin dice",
         "image",
         "https://i.pinimg.com/originals/d4/12/78/d4127833023ca32600571ddca16f1556.jpg",
         "/data/diy-and-crafts",
         "diy-and-crafts"
        ],
        [
         7554,
         "c6fa12f4-0d4a-4b07-a335-5bf9f37f8281",
         "craig style",
         "imgentleboss: “ - more about men’s fashion at @gentleboss - gb’s facebook - ”",
         940,
         "ielylike ..✿◕‿◕✿ஐ✿◕‿◕✿",
         "mens fashion blog,look fashion,autumn fashion,fashion news,fashion sale,80s fashion,paris fashion,runway fashion,fashion trends",
         "image",
         "https://i.pinimg.com/originals/e7/6e/8e/e76e8ed6cc838b84a934c6948a5caff7.jpg",
         "/data/mens-fashion",
         "mens-fashion"
        ],
        [
         6145,
         "82e13a07-db99-43a3-b1c0-89a4b75821da",
         "holiday mantle decor - @amazon & @target finds",
         "holiday mantle decor, christmas decor, metallic mercury glass style christmas trees, eucalyptus vine, evergreen pine branches, white neutral holiday decor, cozy mantle for the h… ",
         83000,
         "stylin by aylin",
         "winter home decor,christmas living room decor,living room decor cozy,christmas decor,cozy fireplace,rustic fireplace decor,fireplace decorations,rustic room,house decorations",
         "image",
         "https://i.pinimg.com/originals/9d/82/1a/9d821a80acd8f90c16454e978bd9b115.jpg",
         "/data/home-decor",
         "home-decor"
        ],
        [
         10625,
         "d31885b7-742a-4e2a-bbb7-ac5f9d334340",
         "jaguar type e",
         "1937 jaguar ss100 - 2 1/2 litre roadster, one of the most sought after pre-war sports cars",
         8000,
         "hobbydb",
         "jaguar type e,jaguar xk,jaguar cars,jaguar roadster,jaguar sport,retro cars,vintage cars,antique cars,british sports cars",
         "image",
         "https://i.pinimg.com/originals/26/81/a7/2681a71bd0c8f7fd0ab79c455338a49a.jpg",
         "/data/vehicles",
         "vehicles"
        ],
        [
         2959,
         "439cac4b-18e8-4aaa-88c5-edb26a701111",
         "the cutest toilet paper crafts",
         "one thing i love about crafts is how the evolve! these toilet paper rolls are adorable and modern. i love that something as simple as a recycled toilet paper roll can be taken t… ",
         502000,
         "craftgossip.com",
         "toilet paper roll crafts,cardboard crafts,diy paper,paper crafting,toilet paper rolls,cardboard playhouse,paper art,kids crafts,toddler crafts",
         "image",
         "https://i.pinimg.com/originals/c6/cd/0d/c6cd0d04da9cfc11566cfd34eeb1f918.jpg",
         "/data/diy-and-crafts",
         "diy-and-crafts"
        ],
        [
         9875,
         "782dcbad-ff91-40a6-ba60-216efe29adb7",
         "european bucket list: 35 things not to miss when traveling europe",
         "35 european bucket list destinations for any traveler heading to europe. from cinque terre, italy to iceland - there are so many amazing sites to see in europe.",
         28000,
         "nicki ",
         "backpacking europe,europe travel guide,travel guides,travel packing,traveling europe,travelling,travel backpack,budget travel,2 week europe itinerary",
         "image",
         "https://i.pinimg.com/originals/71/04/1a/71041ad83ede43d9665741e719c58a86.jpg",
         "/data/travel",
         "travel"
        ],
        [
         2418,
         "da8745a6-5160-46c4-877d-181d50a729fd",
         "100 diy christmas centerpieces you'll love to decorate your home with for the christmas season - hike n dip",
         "here are the best diy christmas centerpieces ideas perfect for your christmas & holiday season home decor. from christmas vignettes to table centerpieces.",
         500000,
         "hikendip",
         "farmhouse christmas decor,rustic christmas,christmas time,vintage christmas,xmas,primitive christmas crafts,christmas vignette,indoor christmas decorations,diy christmas ornaments",
         "image",
         "https://i.pinimg.com/originals/aa/6d/0f/aa6d0f44d7c1c96b998cb9aa6c4446b8.png",
         "/data/christmas",
         "christmas"
        ],
        [
         3156,
         "fa6e31a4-18c2-4eca-a6d8-e903eee2c2a4",
         "handprint reindeer ornaments - crafty morning",
         "this post may contain affiliate links, read our disclosure policy for more information. as an amazon associate i earn from qualifying purchases, thank you! make some cute handpr… ",
         892000,
         "michelle {craftymorning.com}",
         "christmas gifts for parents,christmas decorations for kids,christmas crafts for toddlers,preschool christmas,christmas crafts for gifts,christmas activities,toddler crafts,kids christmas,christmas feeling",
         "image",
         "https://i.pinimg.com/originals/ff/fe/38/fffe384f3ec18a0d87cb2d80cc8c1499.jpg",
         "/data/diy-and-crafts",
         "diy-and-crafts"
        ],
        [
         428,
         "610b3f83-9fe0-469d-946c-d16b577fca71",
         "fashion designer isaac mizrahi’s updated 1930s new york city apartment",
         "fashion designer issac mizrahi’s greenwich village home is an amalgamation of three apartments that was 20 years in the making",
         3000000,
         "architectural digest",
         "modern art,contemporary art,contemporary kitchens,contemporary bedroom,new york city apartment,manhattan apartment,art moderne,architectural digest,painting inspiration",
         "image",
         "https://i.pinimg.com/originals/f4/6c/54/f46c546a2e480022a42d842b7dca157e.jpg",
         "/data/art",
         "art"
        ],
        [
         7343,
         "b8c63a95-6fe8-4d7f-9455-1eef3462fee0",
         "this fashion rule is nonsense, and we should all forget about it",
         "black and brown outfits you need to try this fall season. the trick with black and brown outfits is to know how to combine colors, fabrics, and shapes to get a cohesive look. so… ",
         1000000,
         "cultura colectiva",
         "winter outfits men,stylish mens outfits,casual outfits,men casual,smart casual,outfits for men,fall outfits,mens winter boots,business casual men",
         "image",
         "https://i.pinimg.com/originals/3e/49/09/3e4909c0ccc4dbba3cad83d97eab4a61.png",
         "/data/mens-fashion",
         "mens-fashion"
        ],
        [
         2074,
         "86ed09a7-842d-496d-9501-010c654eb340",
         "35 christmas decorating ideas we bet you haven't thought of",
         "20 christmas decorating ideas we bet you haven't thought of via @purewow",
         868000,
         "purewow",
         "holiday centerpieces,xmas decorations,centerpiece ideas,table centerpieces,valentine decorations,wedding centerpieces,outdoor decorations,christmas centerpieces with candles,christmas dining table decorations",
         "image",
         "https://i.pinimg.com/originals/e9/b9/f0/e9b9f01cc3b2cf41948b45854335396c.jpg",
         "/data/christmas",
         "christmas"
        ],
        [
         9979,
         "2b2abc85-fc51-481f-8ae6-17681993da28",
         "paris in the summer. 10 fun things to do in paris in the summertime • petite in paris",
         "are you traveling to paris during the summer? find out what to do in paris, france during the summer. fun summertime activities in paris. enjoy the incredible outdoors when trav… ",
         3000,
         "petite in paris",
         "torre eiffel paris,tour eiffel,picnic in paris,hello france,voyage europe,destination voyage,beautiful places to travel,travel aesthetic,paris travel",
         "image",
         "https://i.pinimg.com/originals/6c/4c/90/6c4c90bba27ebf8c8bfe4c1acfb9f07a.jpg",
         "/data/travel",
         "travel"
        ],
        [
         10138,
         "927c4658-cc3f-4b92-9b5c-70743d0c238d",
         "14 amazing things to do in costa rica | volcanoes, waterfalls, wildlife and more",
         "this costa rica itinerary is the ultimate guide to spending two weeks in costa rica. find out about visiting la fortuna, arenal, monteverde, naranjo, corcovado national park, or… ",
         10000,
         "wanderlust chloe ✈️ travel guides, inspo and adventure travel ✈️",
         "costa rica travel,rio celeste costa rica,dream vacations,vacation spots,vacation travel,travel pictures,travel photos,fortuna costa rica,costa rica pictures",
         "image",
         "https://i.pinimg.com/originals/30/93/cb/3093cb01d9de2d125fda8ba5e3e41946.jpg",
         "/data/travel",
         "travel"
        ],
        [
         9672,
         "1a5050a4-ac82-472c-aeff-3457de8bbee9",
         "lake moraine, banff, canada",
         "on our calgary to vancouver road trip we got to spend time in banff, canada. we visited the stunning lake moraine as well as lake louise and plenty of other of canada's natural… ",
         7000,
         "travel mad mum",
         "beautiful places to travel,cool places to visit,beautiful roads,beautiful scenery,wonderful places,lac moraine,moraine lake,lac louise,natur wallpaper",
         "video",
         "https://i.pinimg.com/videos/thumbnails/originals/57/9d/52/579d52242ae5609978c754d393e44e81.0000001.jpg",
         "/data/travel",
         "travel"
        ]
       ],
       "datasetInfos": [],
       "dbfsResultPath": null,
       "isJsonSchema": true,
       "metadata": {},
       "overflow": false,
       "plotOptions": {
        "customPlotOptions": {},
        "displayType": "table",
        "pivotAggregation": null,
        "pivotColumns": null,
        "xColumns": null,
        "yColumns": null
       },
       "removedWidgets": [],
       "schema": [
        {
         "metadata": "{}",
         "name": "ind",
         "type": "\"long\""
        },
        {
         "metadata": "{}",
         "name": "unique_id",
         "type": "\"string\""
        },
        {
         "metadata": "{}",
         "name": "title",
         "type": "\"string\""
        },
        {
         "metadata": "{}",
         "name": "description",
         "type": "\"string\""
        },
        {
         "metadata": "{}",
         "name": "follower_count",
         "type": "\"integer\""
        },
        {
         "metadata": "{}",
         "name": "poster_name",
         "type": "\"string\""
        },
        {
         "metadata": "{}",
         "name": "tag_list",
         "type": "\"string\""
        },
        {
         "metadata": "{}",
         "name": "is_image_or_video",
         "type": "\"string\""
        },
        {
         "metadata": "{}",
         "name": "image_src",
         "type": "\"string\""
        },
        {
         "metadata": "{}",
         "name": "save_location",
         "type": "\"string\""
        },
        {
         "metadata": "{}",
         "name": "category",
         "type": "\"string\""
        }
       ],
       "type": "table"
      }
     },
     "output_type": "display_data"
    }
   ],
   "source": [
    "%run \n",
    "./clean-streaming-data-user"
   ]
  },
  {
   "cell_type": "code",
   "execution_count": null,
   "metadata": {
    "application/vnd.databricks.v1+cell": {
     "cellMetadata": {
      "byteLimit": 2048000,
      "rowLimit": 10000
     },
     "inputWidgets": {},
     "nuid": "51e01e24-8c4c-4c3a-8f69-5909cd7075ed",
     "showTitle": false,
     "title": ""
    }
   },
   "outputs": [
    {
     "data": {
      "text/html": [
       "<style scoped>\n",
       "  .ansiout {\n",
       "    display: block;\n",
       "    unicode-bidi: embed;\n",
       "    white-space: pre-wrap;\n",
       "    word-wrap: break-word;\n",
       "    word-break: break-all;\n",
       "    font-family: \"Menlo\", \"Monaco\", \"Consolas\", \"Ubuntu Mono\", \"Source Code Pro\", monospace;\n",
       "    font-size: 13px;\n",
       "    color: #555;\n",
       "    margin-left: 4px;\n",
       "    line-height: 19px;\n",
       "  }\n",
       "</style>\n",
       "<div class=\"ansiout\">Out[298]: &lt;pyspark.sql.streaming.StreamingQuery at 0x7f87a1dd59a0&gt;</div>"
      ]
     },
     "metadata": {
      "application/vnd.databricks.v1+output": {
       "addedWidgets": {},
       "arguments": {},
       "data": "<div class=\"ansiout\">Out[298]: &lt;pyspark.sql.streaming.StreamingQuery at 0x7f87a1dd59a0&gt;</div>",
       "datasetInfos": [],
       "metadata": {},
       "removedWidgets": [],
       "type": "html"
      }
     },
     "output_type": "display_data"
    },
    {
     "data": {
      "text/html": [
       "<style scoped>\n",
       "  .ansiout {\n",
       "    display: block;\n",
       "    unicode-bidi: embed;\n",
       "    white-space: pre-wrap;\n",
       "    word-wrap: break-word;\n",
       "    word-break: break-all;\n",
       "    font-family: \"Menlo\", \"Monaco\", \"Consolas\", \"Ubuntu Mono\", \"Source Code Pro\", monospace;\n",
       "    font-size: 13px;\n",
       "    color: #555;\n",
       "    margin-left: 4px;\n",
       "    line-height: 19px;\n",
       "  }\n",
       "</style>\n",
       "<div class=\"ansiout\">UserData Cleaning init\n",
       "</div>"
      ]
     },
     "metadata": {
      "application/vnd.databricks.v1+output": {
       "addedWidgets": {},
       "arguments": {},
       "data": "<div class=\"ansiout\">UserData Cleaning init\n</div>",
       "datasetInfos": [],
       "metadata": {},
       "removedWidgets": [],
       "type": "html"
      }
     },
     "output_type": "display_data"
    }
   ],
   "source": [
    "cleaned_geo_data.writeStream \\\n",
    "    .format(\"delta\") \\\n",
    "    .outputMode(\"append\") \\\n",
    "    .option(\"checkpointLocation\", \"/tmp/kinesis/_checkpoints/\") \\\n",
    "    .table(\"0e2bc66a6297_geo_table\")"
   ]
  },
  {
   "cell_type": "code",
   "execution_count": null,
   "metadata": {
    "application/vnd.databricks.v1+cell": {
     "cellMetadata": {
      "byteLimit": 2048000,
      "rowLimit": 10000
     },
     "inputWidgets": {},
     "nuid": "9e1b8322-d7f3-4207-9399-2960aedfbc93",
     "showTitle": false,
     "title": ""
    }
   },
   "outputs": [
    {
     "data": {
      "text/html": [
       "<style scoped>\n",
       "  .ansiout {\n",
       "    display: block;\n",
       "    unicode-bidi: embed;\n",
       "    white-space: pre-wrap;\n",
       "    word-wrap: break-word;\n",
       "    word-break: break-all;\n",
       "    font-family: \"Menlo\", \"Monaco\", \"Consolas\", \"Ubuntu Mono\", \"Source Code Pro\", monospace;\n",
       "    font-size: 13px;\n",
       "    color: #555;\n",
       "    margin-left: 4px;\n",
       "    line-height: 19px;\n",
       "  }\n",
       "</style>\n",
       "<div class=\"ansiout\">Out[299]: &lt;pyspark.sql.streaming.StreamingQuery at 0x7f87a22fb580&gt;</div>"
      ]
     },
     "metadata": {
      "application/vnd.databricks.v1+output": {
       "addedWidgets": {},
       "arguments": {},
       "data": "<div class=\"ansiout\">Out[299]: &lt;pyspark.sql.streaming.StreamingQuery at 0x7f87a22fb580&gt;</div>",
       "datasetInfos": [],
       "metadata": {},
       "removedWidgets": [],
       "type": "html"
      }
     },
     "output_type": "display_data"
    }
   ],
   "source": [
    "cleaned_pin_data.writeStream \\\n",
    "    .format(\"delta\") \\\n",
    "    .outputMode(\"append\") \\\n",
    "    .option(\"checkpointLocation\", \"/tmp/kinesis/_checkpoints/\") \\\n",
    "    .table(\"0e2bc66a6297_pin_table\")"
   ]
  },
  {
   "cell_type": "code",
   "execution_count": null,
   "metadata": {
    "application/vnd.databricks.v1+cell": {
     "cellMetadata": {
      "byteLimit": 2048000,
      "rowLimit": 10000
     },
     "inputWidgets": {},
     "nuid": "23f0a964-31d5-4e13-b5e5-3f91359a95bb",
     "showTitle": false,
     "title": ""
    }
   },
   "outputs": [
    {
     "data": {
      "text/html": [
       "<style scoped>\n",
       "  .ansiout {\n",
       "    display: block;\n",
       "    unicode-bidi: embed;\n",
       "    white-space: pre-wrap;\n",
       "    word-wrap: break-word;\n",
       "    word-break: break-all;\n",
       "    font-family: \"Menlo\", \"Monaco\", \"Consolas\", \"Ubuntu Mono\", \"Source Code Pro\", monospace;\n",
       "    font-size: 13px;\n",
       "    color: #555;\n",
       "    margin-left: 4px;\n",
       "    line-height: 19px;\n",
       "  }\n",
       "</style>\n",
       "<div class=\"ansiout\">Out[300]: &lt;pyspark.sql.streaming.StreamingQuery at 0x7f87a2508d90&gt;</div>"
      ]
     },
     "metadata": {
      "application/vnd.databricks.v1+output": {
       "addedWidgets": {},
       "arguments": {},
       "data": "<div class=\"ansiout\">Out[300]: &lt;pyspark.sql.streaming.StreamingQuery at 0x7f87a2508d90&gt;</div>",
       "datasetInfos": [],
       "metadata": {},
       "removedWidgets": [],
       "type": "html"
      }
     },
     "output_type": "display_data"
    }
   ],
   "source": [
    "cleaned_user_data.writeStream \\\n",
    "    .format(\"delta\") \\\n",
    "    .outputMode(\"append\") \\\n",
    "    .option(\"checkpointLocation\", \"/tmp/kinesis/_checkpoints/\") \\\n",
    "    .table(\"0e2bc66a6297_user_table\")"
   ]
  }
 ],
 "metadata": {
  "application/vnd.databricks.v1+notebook": {
   "dashboards": [],
   "language": "python",
   "notebookMetadata": {
    "mostRecentlyExecutedCommandWithImplicitDF": {
     "commandId": 2166566293989343,
     "dataframes": [
      "_sqldf"
     ]
    },
    "pythonIndentUnit": 4
   },
   "notebookName": "main",
   "widgets": {}
  },
  "language_info": {
   "name": "python"
  }
 },
 "nbformat": 4,
 "nbformat_minor": 0
}
