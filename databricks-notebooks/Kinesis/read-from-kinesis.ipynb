{
 "cells": [
  {
   "cell_type": "code",
   "execution_count": 0,
   "metadata": {
    "application/vnd.databricks.v1+cell": {
     "cellMetadata": {
      "byteLimit": 2048000,
      "rowLimit": 10000
     },
     "inputWidgets": {},
     "nuid": "5670bf8b-e62f-475b-9e95-0bea9a437665",
     "showTitle": false,
     "title": ""
    }
   },
   "outputs": [
    {
     "output_type": "display_data",
     "data": {
      "text/html": [
       "<style scoped>\n",
       "  .ansiout {\n",
       "    display: block;\n",
       "    unicode-bidi: embed;\n",
       "    white-space: pre-wrap;\n",
       "    word-wrap: break-word;\n",
       "    word-break: break-all;\n",
       "    font-family: \"Menlo\", \"Monaco\", \"Consolas\", \"Ubuntu Mono\", \"Source Code Pro\", monospace;\n",
       "    font-size: 13px;\n",
       "    color: #555;\n",
       "    margin-left: 4px;\n",
       "    line-height: 19px;\n",
       "  }\n",
       "</style>\n",
       "<div class=\"ansiout\"></div>"
      ]
     },
     "metadata": {
      "application/vnd.databricks.v1+output": {
       "addedWidgets": {},
       "arguments": {},
       "data": "<div class=\"ansiout\"></div>",
       "datasetInfos": [],
       "metadata": {},
       "removedWidgets": [],
       "type": "html"
      }
     },
     "output_type": "display_data"
    }
   ],
   "source": [
    "from pyspark.sql.types import *\n",
    "from pyspark.sql.functions import *\n",
    "import urllib\n",
    "\n",
    "# Define the path to the Delta table\n",
    "delta_table_path = \"dbfs:/user/hive/warehouse/authentication_credentials\"\n",
    "\n",
    "# Read the Delta table to a Spark DataFrame\n",
    "aws_keys_df = spark.read.format(\"delta\").load(delta_table_path)\n",
    "\n",
    "# Get the AWS access key and secret key from the spark dataframe\n",
    "ACCESS_KEY = aws_keys_df.select('Access key ID').collect()[0]['Access key ID']\n",
    "SECRET_KEY = aws_keys_df.select('Secret access key').collect()[0]['Secret access key']\n",
    "# Encode the secrete key\n",
    "ENCODED_SECRET_KEY = urllib.parse.quote(string=SECRET_KEY, safe=\"\")\n",
    "\n"
   ]
  },
  {
   "cell_type": "code",
   "execution_count": 0,
   "metadata": {
    "application/vnd.databricks.v1+cell": {
     "cellMetadata": {
      "byteLimit": 2048000,
      "implicitDf": true,
      "rowLimit": 10000
     },
     "inputWidgets": {},
     "nuid": "b127e36d-ae0d-4c1d-b855-3f40f5f06b6d",
     "showTitle": false,
     "title": ""
    }
   },
   "outputs": [
    {
     "output_type": "display_data",
     "data": {
      "text/html": [
       "<style scoped>\n",
       "  .table-result-container {\n",
       "    max-height: 300px;\n",
       "    overflow: auto;\n",
       "  }\n",
       "  table, th, td {\n",
       "    border: 1px solid black;\n",
       "    border-collapse: collapse;\n",
       "  }\n",
       "  th, td {\n",
       "    padding: 5px;\n",
       "  }\n",
       "  th {\n",
       "    text-align: left;\n",
       "  }\n",
       "</style><div class='table-result-container'><table class='table-result'><thead style='background-color: white'><tr><th>key</th><th>value</th></tr></thead><tbody><tr><td>spark.databricks.delta.formatCheck.enabled</td><td>false</td></tr></tbody></table></div>"
      ]
     },
     "metadata": {
      "application/vnd.databricks.v1+output": {
       "addedWidgets": {},
       "aggData": [],
       "aggError": "",
       "aggOverflow": false,
       "aggSchema": [],
       "aggSeriesLimitReached": false,
       "aggType": "",
       "arguments": {},
       "columnCustomDisplayInfos": {},
       "data": [
        [
         "spark.databricks.delta.formatCheck.enabled",
         "false"
        ]
       ],
       "datasetInfos": [],
       "dbfsResultPath": null,
       "isJsonSchema": true,
       "metadata": {},
       "overflow": false,
       "plotOptions": {
        "customPlotOptions": {},
        "displayType": "table",
        "pivotAggregation": null,
        "pivotColumns": null,
        "xColumns": null,
        "yColumns": null
       },
       "removedWidgets": [],
       "schema": [
        {
         "metadata": "{}",
         "name": "key",
         "type": "\"string\""
        },
        {
         "metadata": "{}",
         "name": "value",
         "type": "\"string\""
        }
       ],
       "type": "table"
      }
     },
     "output_type": "display_data"
    }
   ],
   "source": [
    "%sql\n",
    "SET spark.databricks.delta.formatCheck.enabled=false"
   ]
  },
  {
   "cell_type": "code",
   "execution_count": 0,
   "metadata": {
    "application/vnd.databricks.v1+cell": {
     "cellMetadata": {
      "byteLimit": 2048000,
      "rowLimit": 10000
     },
     "inputWidgets": {},
     "nuid": "92421ac6-a600-4648-b8c3-24abd548b44b",
     "showTitle": false,
     "title": ""
    }
   },
   "outputs": [
    {
     "output_type": "display_data",
     "data": {
      "text/html": [
       "<style scoped>\n",
       "  .ansiout {\n",
       "    display: block;\n",
       "    unicode-bidi: embed;\n",
       "    white-space: pre-wrap;\n",
       "    word-wrap: break-word;\n",
       "    word-break: break-all;\n",
       "    font-family: \"Menlo\", \"Monaco\", \"Consolas\", \"Ubuntu Mono\", \"Source Code Pro\", monospace;\n",
       "    font-size: 13px;\n",
       "    color: #555;\n",
       "    margin-left: 4px;\n",
       "    line-height: 19px;\n",
       "  }\n",
       "</style>\n",
       "<div class=\"ansiout\"></div>"
      ]
     },
     "metadata": {
      "application/vnd.databricks.v1+output": {
       "addedWidgets": {},
       "arguments": {},
       "data": "<div class=\"ansiout\"></div>",
       "datasetInfos": [],
       "metadata": {},
       "removedWidgets": [],
       "type": "html"
      }
     },
     "output_type": "display_data"
    }
   ],
   "source": [
    "geo_stream = spark \\\n",
    ".readStream \\\n",
    ".format('kinesis') \\\n",
    ".option('streamName','streaming-0e2bc66a6297-geo') \\\n",
    ".option('initialPosition','earliest') \\\n",
    ".option('region','us-east-1') \\\n",
    ".option('awsAccessKey', ACCESS_KEY) \\\n",
    ".option('awsSecretKey', SECRET_KEY) \\\n",
    ".load()"
   ]
  },
  {
   "cell_type": "code",
   "execution_count": 0,
   "metadata": {
    "application/vnd.databricks.v1+cell": {
     "cellMetadata": {
      "byteLimit": 2048000,
      "rowLimit": 10000
     },
     "inputWidgets": {},
     "nuid": "3bee47ca-1fda-4d62-8e5f-92952419c27e",
     "showTitle": false,
     "title": ""
    }
   },
   "outputs": [
    {
     "output_type": "display_data",
     "data": {
      "text/html": [
       "<style scoped>\n",
       "  .ansiout {\n",
       "    display: block;\n",
       "    unicode-bidi: embed;\n",
       "    white-space: pre-wrap;\n",
       "    word-wrap: break-word;\n",
       "    word-break: break-all;\n",
       "    font-family: \"Menlo\", \"Monaco\", \"Consolas\", \"Ubuntu Mono\", \"Source Code Pro\", monospace;\n",
       "    font-size: 13px;\n",
       "    color: #555;\n",
       "    margin-left: 4px;\n",
       "    line-height: 19px;\n",
       "  }\n",
       "</style>\n",
       "<div class=\"ansiout\"></div>"
      ]
     },
     "metadata": {
      "application/vnd.databricks.v1+output": {
       "addedWidgets": {},
       "arguments": {},
       "data": "<div class=\"ansiout\"></div>",
       "datasetInfos": [],
       "metadata": {},
       "removedWidgets": [],
       "type": "html"
      }
     },
     "output_type": "display_data"
    }
   ],
   "source": [
    "pin_stream = spark \\\n",
    ".readStream \\\n",
    ".format('kinesis') \\\n",
    ".option('streamName','streaming-0e2bc66a6297-pin') \\\n",
    ".option('initialPosition','earliest') \\\n",
    ".option('region','us-east-1') \\\n",
    ".option('awsAccessKey', ACCESS_KEY) \\\n",
    ".option('awsSecretKey', SECRET_KEY) \\\n",
    ".load()"
   ]
  },
  {
   "cell_type": "code",
   "execution_count": 0,
   "metadata": {
    "application/vnd.databricks.v1+cell": {
     "cellMetadata": {
      "byteLimit": 2048000,
      "rowLimit": 10000
     },
     "inputWidgets": {},
     "nuid": "fe8bcbfe-7db8-4796-a061-466cba966cfb",
     "showTitle": false,
     "title": ""
    }
   },
   "outputs": [
    {
     "output_type": "display_data",
     "data": {
      "text/html": [
       "<style scoped>\n",
       "  .ansiout {\n",
       "    display: block;\n",
       "    unicode-bidi: embed;\n",
       "    white-space: pre-wrap;\n",
       "    word-wrap: break-word;\n",
       "    word-break: break-all;\n",
       "    font-family: \"Menlo\", \"Monaco\", \"Consolas\", \"Ubuntu Mono\", \"Source Code Pro\", monospace;\n",
       "    font-size: 13px;\n",
       "    color: #555;\n",
       "    margin-left: 4px;\n",
       "    line-height: 19px;\n",
       "  }\n",
       "</style>\n",
       "<div class=\"ansiout\"></div>"
      ]
     },
     "metadata": {
      "application/vnd.databricks.v1+output": {
       "addedWidgets": {},
       "arguments": {},
       "data": "<div class=\"ansiout\"></div>",
       "datasetInfos": [],
       "metadata": {},
       "removedWidgets": [],
       "type": "html"
      }
     },
     "output_type": "display_data"
    }
   ],
   "source": [
    "user_stream = spark \\\n",
    ".readStream \\\n",
    ".format('kinesis') \\\n",
    ".option('streamName','streaming-0e2bc66a6297-user') \\\n",
    ".option('initialPosition','earliest') \\\n",
    ".option('region','us-east-1') \\\n",
    ".option('awsAccessKey', ACCESS_KEY) \\\n",
    ".option('awsSecretKey', SECRET_KEY) \\\n",
    ".load()"
   ]
  },
  {
   "cell_type": "code",
   "execution_count": 0,
   "metadata": {
    "application/vnd.databricks.v1+cell": {
     "cellMetadata": {
      "byteLimit": 2048000,
      "rowLimit": 10000
     },
     "inputWidgets": {},
     "nuid": "f5c57de3-8e9e-4374-b164-2634f2d51af2",
     "showTitle": false,
     "title": ""
    }
   },
   "outputs": [
    {
     "output_type": "display_data",
     "data": {
      "text/html": [
       "<style scoped>\n",
       "  .table-result-container {\n",
       "    max-height: 300px;\n",
       "    overflow: auto;\n",
       "  }\n",
       "  table, th, td {\n",
       "    border: 1px solid black;\n",
       "    border-collapse: collapse;\n",
       "  }\n",
       "  th, td {\n",
       "    padding: 5px;\n",
       "  }\n",
       "  th {\n",
       "    text-align: left;\n",
       "  }\n",
       "</style><div class='table-result-container'><table class='table-result'><thead style='background-color: white'><tr><th>data</th></tr></thead><tbody><tr><td>{\"ind\":7528,\"timestamp\":\"2020-08-28T03:52:47\",\"latitude\":-89.9787,\"longitude\":-173.293,\"country\":\"Albania\"}</td></tr><tr><td>{\"ind\":2863,\"timestamp\":\"2020-04-27T13:34:16\",\"latitude\":-5.34445,\"longitude\":-177.924,\"country\":\"Armenia\"}</td></tr><tr><td>{\"ind\":5730,\"timestamp\":\"2021-04-19T17:37:03\",\"latitude\":-77.015,\"longitude\":-101.437,\"country\":\"Colombia\"}</td></tr><tr><td>{\"ind\":7528,\"timestamp\":\"2020-08-28T03:52:47\",\"latitude\":-89.9787,\"longitude\":-173.293,\"country\":\"Albania\"}</td></tr><tr><td>{\"ind\":2863,\"timestamp\":\"2020-04-27T13:34:16\",\"latitude\":-5.34445,\"longitude\":-177.924,\"country\":\"Armenia\"}</td></tr><tr><td>{\"ind\":5730,\"timestamp\":\"2021-04-19T17:37:03\",\"latitude\":-77.015,\"longitude\":-101.437,\"country\":\"Colombia\"}</td></tr><tr><td>{\"ind\":8304,\"timestamp\":\"2019-09-13T04:50:29\",\"latitude\":-28.8852,\"longitude\":-164.87,\"country\":\"French Guiana\"}</td></tr><tr><td>{\"ind\":8731,\"timestamp\":\"2020-07-17T04:39:09\",\"latitude\":-83.104,\"longitude\":-171.302,\"country\":\"Aruba\"}</td></tr><tr><td>{\"ind\":1313,\"timestamp\":\"2018-06-26T02:39:25\",\"latitude\":77.0447,\"longitude\":61.9119,\"country\":\"Maldives\"}</td></tr><tr><td>{\"ind\":4315,\"timestamp\":\"2019-12-15T03:51:28\",\"latitude\":-45.8508,\"longitude\":66.1003,\"country\":\"Cote d'Ivoire\"}</td></tr><tr><td>{\"ind\":10794,\"timestamp\":\"2022-01-01T02:26:50\",\"latitude\":-89.5236,\"longitude\":-154.567,\"country\":\"Cocos (Keeling) Islands\"}</td></tr><tr><td>{\"ind\":5494,\"timestamp\":\"2021-07-21T02:02:35\",\"latitude\":-82.6768,\"longitude\":-129.202,\"country\":\"Bulgaria\"}</td></tr><tr><td>{\"ind\":7528,\"timestamp\":\"2020-08-28T03:52:47\",\"latitude\":-89.9787,\"longitude\":-173.293,\"country\":\"Albania\"}</td></tr><tr><td>{\"ind\":2863,\"timestamp\":\"2020-04-27T13:34:16\",\"latitude\":-5.34445,\"longitude\":-177.924,\"country\":\"Armenia\"}</td></tr><tr><td>{\"ind\":5730,\"timestamp\":\"2021-04-19T17:37:03\",\"latitude\":-77.015,\"longitude\":-101.437,\"country\":\"Colombia\"}</td></tr><tr><td>{\"ind\":8304,\"timestamp\":\"2019-09-13T04:50:29\",\"latitude\":-28.8852,\"longitude\":-164.87,\"country\":\"French Guiana\"}</td></tr><tr><td>{\"ind\":8731,\"timestamp\":\"2020-07-17T04:39:09\",\"latitude\":-83.104,\"longitude\":-171.302,\"country\":\"Aruba\"}</td></tr><tr><td>{\"ind\":1313,\"timestamp\":\"2018-06-26T02:39:25\",\"latitude\":77.0447,\"longitude\":61.9119,\"country\":\"Maldives\"}</td></tr><tr><td>{\"ind\":4315,\"timestamp\":\"2019-12-15T03:51:28\",\"latitude\":-45.8508,\"longitude\":66.1003,\"country\":\"Cote d'Ivoire\"}</td></tr><tr><td>{\"ind\":10794,\"timestamp\":\"2022-01-01T02:26:50\",\"latitude\":-89.5236,\"longitude\":-154.567,\"country\":\"Cocos (Keeling) Islands\"}</td></tr><tr><td>{\"ind\":5494,\"timestamp\":\"2021-07-21T02:02:35\",\"latitude\":-82.6768,\"longitude\":-129.202,\"country\":\"Bulgaria\"}</td></tr><tr><td>{\"ind\":5069,\"timestamp\":\"2021-03-20T09:32:44\",\"latitude\":-63.0063,\"longitude\":-157.474,\"country\":\"Azerbaijan\"}</td></tr><tr><td>{\"ind\":2923,\"timestamp\":\"2019-09-08T22:53:09\",\"latitude\":-84.6302,\"longitude\":-164.507,\"country\":\"Cote d'Ivoire\"}</td></tr><tr><td>{\"ind\":3089,\"timestamp\":\"2018-02-28T05:31:29\",\"latitude\":-89.9787,\"longitude\":-173.293,\"country\":\"Albania\"}</td></tr><tr><td>{\"ind\":6063,\"timestamp\":\"2021-07-20T09:02:47\",\"latitude\":-89.1797,\"longitude\":-174.015,\"country\":\"Anguilla\"}</td></tr><tr><td>{\"ind\":3454,\"timestamp\":\"2021-07-25T02:20:29\",\"latitude\":-0.375174,\"longitude\":49.8106,\"country\":\"Cambodia\"}</td></tr><tr><td>{\"ind\":7554,\"timestamp\":\"2019-03-20T03:15:07\",\"latitude\":-51.2172,\"longitude\":-77.9768,\"country\":\"Sudan\"}</td></tr><tr><td>{\"ind\":6145,\"timestamp\":\"2019-12-05T02:09:44\",\"latitude\":-65.9079,\"longitude\":-143.845,\"country\":\"Mozambique\"}</td></tr><tr><td>{\"ind\":10625,\"timestamp\":\"2018-07-13T11:51:15\",\"latitude\":-84.4944,\"longitude\":-81.0613,\"country\":\"Jamaica\"}</td></tr><tr><td>{\"ind\":2959,\"timestamp\":\"2019-08-19T08:22:02\",\"latitude\":-68.0095,\"longitude\":-157.227,\"country\":\"Angola\"}</td></tr><tr><td>{\"ind\":9875,\"timestamp\":\"2020-03-20T13:03:18\",\"latitude\":-74.3382,\"longitude\":-110.484,\"country\":\"Barbados\"}</td></tr><tr><td>{\"ind\":2418,\"timestamp\":\"2022-05-27T11:30:59\",\"latitude\":-88.4642,\"longitude\":-171.061,\"country\":\"Antarctica (the territory South of 60 deg S)\"}</td></tr><tr><td>{\"ind\":3156,\"timestamp\":\"2018-01-13T19:33:49\",\"latitude\":-84.738,\"longitude\":-160.795,\"country\":\"Armenia\"}</td></tr><tr><td>{\"ind\":428,\"timestamp\":\"2020-09-27T18:46:41\",\"latitude\":-83.4105,\"longitude\":-150.788,\"country\":\"Bangladesh\"}</td></tr><tr><td>{\"ind\":7343,\"timestamp\":\"2018-08-06T12:17:07\",\"latitude\":-65.4428,\"longitude\":-161.684,\"country\":\"Australia\"}</td></tr><tr><td>{\"ind\":2074,\"timestamp\":\"2019-11-03T05:41:59\",\"latitude\":-52.3213,\"longitude\":-50.11,\"country\":\"Central African Republic\"}</td></tr><tr><td>{\"ind\":9979,\"timestamp\":\"2018-07-18T19:01:46\",\"latitude\":14.9967,\"longitude\":-120.682,\"country\":\"Dominican Republic\"}</td></tr><tr><td>{\"ind\":10138,\"timestamp\":\"2019-08-03T00:59:29\",\"latitude\":-72.142,\"longitude\":-74.3545,\"country\":\"Austria\"}</td></tr><tr><td>{\"ind\":9672,\"timestamp\":\"2019-11-03T13:15:52\",\"latitude\":79.4658,\"longitude\":-69.4133,\"country\":\"India\"}</td></tr></tbody></table></div>"
      ]
     },
     "metadata": {
      "application/vnd.databricks.v1+output": {
       "addedWidgets": {},
       "aggData": [],
       "aggError": "",
       "aggOverflow": false,
       "aggSchema": [],
       "aggSeriesLimitReached": false,
       "aggType": "",
       "arguments": {},
       "columnCustomDisplayInfos": {},
       "data": [
        [
         "{\"ind\":7528,\"timestamp\":\"2020-08-28T03:52:47\",\"latitude\":-89.9787,\"longitude\":-173.293,\"country\":\"Albania\"}"
        ],
        [
         "{\"ind\":2863,\"timestamp\":\"2020-04-27T13:34:16\",\"latitude\":-5.34445,\"longitude\":-177.924,\"country\":\"Armenia\"}"
        ],
        [
         "{\"ind\":5730,\"timestamp\":\"2021-04-19T17:37:03\",\"latitude\":-77.015,\"longitude\":-101.437,\"country\":\"Colombia\"}"
        ],
        [
         "{\"ind\":7528,\"timestamp\":\"2020-08-28T03:52:47\",\"latitude\":-89.9787,\"longitude\":-173.293,\"country\":\"Albania\"}"
        ],
        [
         "{\"ind\":2863,\"timestamp\":\"2020-04-27T13:34:16\",\"latitude\":-5.34445,\"longitude\":-177.924,\"country\":\"Armenia\"}"
        ],
        [
         "{\"ind\":5730,\"timestamp\":\"2021-04-19T17:37:03\",\"latitude\":-77.015,\"longitude\":-101.437,\"country\":\"Colombia\"}"
        ],
        [
         "{\"ind\":8304,\"timestamp\":\"2019-09-13T04:50:29\",\"latitude\":-28.8852,\"longitude\":-164.87,\"country\":\"French Guiana\"}"
        ],
        [
         "{\"ind\":8731,\"timestamp\":\"2020-07-17T04:39:09\",\"latitude\":-83.104,\"longitude\":-171.302,\"country\":\"Aruba\"}"
        ],
        [
         "{\"ind\":1313,\"timestamp\":\"2018-06-26T02:39:25\",\"latitude\":77.0447,\"longitude\":61.9119,\"country\":\"Maldives\"}"
        ],
        [
         "{\"ind\":4315,\"timestamp\":\"2019-12-15T03:51:28\",\"latitude\":-45.8508,\"longitude\":66.1003,\"country\":\"Cote d'Ivoire\"}"
        ],
        [
         "{\"ind\":10794,\"timestamp\":\"2022-01-01T02:26:50\",\"latitude\":-89.5236,\"longitude\":-154.567,\"country\":\"Cocos (Keeling) Islands\"}"
        ],
        [
         "{\"ind\":5494,\"timestamp\":\"2021-07-21T02:02:35\",\"latitude\":-82.6768,\"longitude\":-129.202,\"country\":\"Bulgaria\"}"
        ],
        [
         "{\"ind\":7528,\"timestamp\":\"2020-08-28T03:52:47\",\"latitude\":-89.9787,\"longitude\":-173.293,\"country\":\"Albania\"}"
        ],
        [
         "{\"ind\":2863,\"timestamp\":\"2020-04-27T13:34:16\",\"latitude\":-5.34445,\"longitude\":-177.924,\"country\":\"Armenia\"}"
        ],
        [
         "{\"ind\":5730,\"timestamp\":\"2021-04-19T17:37:03\",\"latitude\":-77.015,\"longitude\":-101.437,\"country\":\"Colombia\"}"
        ],
        [
         "{\"ind\":8304,\"timestamp\":\"2019-09-13T04:50:29\",\"latitude\":-28.8852,\"longitude\":-164.87,\"country\":\"French Guiana\"}"
        ],
        [
         "{\"ind\":8731,\"timestamp\":\"2020-07-17T04:39:09\",\"latitude\":-83.104,\"longitude\":-171.302,\"country\":\"Aruba\"}"
        ],
        [
         "{\"ind\":1313,\"timestamp\":\"2018-06-26T02:39:25\",\"latitude\":77.0447,\"longitude\":61.9119,\"country\":\"Maldives\"}"
        ],
        [
         "{\"ind\":4315,\"timestamp\":\"2019-12-15T03:51:28\",\"latitude\":-45.8508,\"longitude\":66.1003,\"country\":\"Cote d'Ivoire\"}"
        ],
        [
         "{\"ind\":10794,\"timestamp\":\"2022-01-01T02:26:50\",\"latitude\":-89.5236,\"longitude\":-154.567,\"country\":\"Cocos (Keeling) Islands\"}"
        ],
        [
         "{\"ind\":5494,\"timestamp\":\"2021-07-21T02:02:35\",\"latitude\":-82.6768,\"longitude\":-129.202,\"country\":\"Bulgaria\"}"
        ],
        [
         "{\"ind\":5069,\"timestamp\":\"2021-03-20T09:32:44\",\"latitude\":-63.0063,\"longitude\":-157.474,\"country\":\"Azerbaijan\"}"
        ],
        [
         "{\"ind\":2923,\"timestamp\":\"2019-09-08T22:53:09\",\"latitude\":-84.6302,\"longitude\":-164.507,\"country\":\"Cote d'Ivoire\"}"
        ],
        [
         "{\"ind\":3089,\"timestamp\":\"2018-02-28T05:31:29\",\"latitude\":-89.9787,\"longitude\":-173.293,\"country\":\"Albania\"}"
        ],
        [
         "{\"ind\":6063,\"timestamp\":\"2021-07-20T09:02:47\",\"latitude\":-89.1797,\"longitude\":-174.015,\"country\":\"Anguilla\"}"
        ],
        [
         "{\"ind\":3454,\"timestamp\":\"2021-07-25T02:20:29\",\"latitude\":-0.375174,\"longitude\":49.8106,\"country\":\"Cambodia\"}"
        ],
        [
         "{\"ind\":7554,\"timestamp\":\"2019-03-20T03:15:07\",\"latitude\":-51.2172,\"longitude\":-77.9768,\"country\":\"Sudan\"}"
        ],
        [
         "{\"ind\":6145,\"timestamp\":\"2019-12-05T02:09:44\",\"latitude\":-65.9079,\"longitude\":-143.845,\"country\":\"Mozambique\"}"
        ],
        [
         "{\"ind\":10625,\"timestamp\":\"2018-07-13T11:51:15\",\"latitude\":-84.4944,\"longitude\":-81.0613,\"country\":\"Jamaica\"}"
        ],
        [
         "{\"ind\":2959,\"timestamp\":\"2019-08-19T08:22:02\",\"latitude\":-68.0095,\"longitude\":-157.227,\"country\":\"Angola\"}"
        ],
        [
         "{\"ind\":9875,\"timestamp\":\"2020-03-20T13:03:18\",\"latitude\":-74.3382,\"longitude\":-110.484,\"country\":\"Barbados\"}"
        ],
        [
         "{\"ind\":2418,\"timestamp\":\"2022-05-27T11:30:59\",\"latitude\":-88.4642,\"longitude\":-171.061,\"country\":\"Antarctica (the territory South of 60 deg S)\"}"
        ],
        [
         "{\"ind\":3156,\"timestamp\":\"2018-01-13T19:33:49\",\"latitude\":-84.738,\"longitude\":-160.795,\"country\":\"Armenia\"}"
        ],
        [
         "{\"ind\":428,\"timestamp\":\"2020-09-27T18:46:41\",\"latitude\":-83.4105,\"longitude\":-150.788,\"country\":\"Bangladesh\"}"
        ],
        [
         "{\"ind\":7343,\"timestamp\":\"2018-08-06T12:17:07\",\"latitude\":-65.4428,\"longitude\":-161.684,\"country\":\"Australia\"}"
        ],
        [
         "{\"ind\":2074,\"timestamp\":\"2019-11-03T05:41:59\",\"latitude\":-52.3213,\"longitude\":-50.11,\"country\":\"Central African Republic\"}"
        ],
        [
         "{\"ind\":9979,\"timestamp\":\"2018-07-18T19:01:46\",\"latitude\":14.9967,\"longitude\":-120.682,\"country\":\"Dominican Republic\"}"
        ],
        [
         "{\"ind\":10138,\"timestamp\":\"2019-08-03T00:59:29\",\"latitude\":-72.142,\"longitude\":-74.3545,\"country\":\"Austria\"}"
        ],
        [
         "{\"ind\":9672,\"timestamp\":\"2019-11-03T13:15:52\",\"latitude\":79.4658,\"longitude\":-69.4133,\"country\":\"India\"}"
        ]
       ],
       "datasetInfos": [],
       "dbfsResultPath": null,
       "isJsonSchema": true,
       "metadata": {
        "isDbfsCommandResult": false
       },
       "overflow": false,
       "plotOptions": {
        "customPlotOptions": {},
        "displayType": "table",
        "pivotAggregation": null,
        "pivotColumns": null,
        "xColumns": null,
        "yColumns": null
       },
       "removedWidgets": [],
       "schema": [
        {
         "metadata": "{}",
         "name": "data",
         "type": "\"string\""
        }
       ],
       "type": "table"
      }
     },
     "output_type": "display_data"
    }
   ],
   "source": [
    "# display(geo_df)\n",
    "# display(pin_df)\n",
    "# display(user_df)\n"
   ]
  },
  {
   "cell_type": "code",
   "execution_count": 0,
   "metadata": {
    "application/vnd.databricks.v1+cell": {
     "cellMetadata": {},
     "inputWidgets": {},
     "nuid": "b99d1f9a-6975-4383-9fcc-e55ec742da30",
     "showTitle": false,
     "title": ""
    }
   },
   "outputs": [],
   "source": []
  },
  {
   "cell_type": "code",
   "execution_count": 0,
   "metadata": {
    "application/vnd.databricks.v1+cell": {
     "cellMetadata": {
      "byteLimit": 2048000,
      "rowLimit": 10000
     },
     "inputWidgets": {},
     "nuid": "b1fcbf58-f286-4f5a-9562-9d96b5f9b7a8",
     "showTitle": false,
     "title": ""
    }
   },
   "outputs": [
    {
     "output_type": "display_data",
     "data": {
      "text/html": [
       "<style scoped>\n",
       "  .ansiout {\n",
       "    display: block;\n",
       "    unicode-bidi: embed;\n",
       "    white-space: pre-wrap;\n",
       "    word-wrap: break-word;\n",
       "    word-break: break-all;\n",
       "    font-family: \"Menlo\", \"Monaco\", \"Consolas\", \"Ubuntu Mono\", \"Source Code Pro\", monospace;\n",
       "    font-size: 13px;\n",
       "    color: #555;\n",
       "    margin-left: 4px;\n",
       "    line-height: 19px;\n",
       "  }\n",
       "</style>\n",
       "<div class=\"ansiout\"></div>"
      ]
     },
     "metadata": {
      "application/vnd.databricks.v1+output": {
       "addedWidgets": {},
       "arguments": {},
       "data": "<div class=\"ansiout\"></div>",
       "datasetInfos": [],
       "metadata": {},
       "removedWidgets": [],
       "type": "html"
      }
     },
     "output_type": "display_data"
    }
   ],
   "source": [
    "geo_stream = geo_stream.selectExpr(\"CAST(data as STRING)\")\n",
    "pin_stream = pin_stream.selectExpr(\"CAST(data as STRING)\")\n",
    "user_stream = user_stream.selectExpr(\"CAST(data as STRING)\")"
   ]
  },
  {
   "cell_type": "code",
   "execution_count": 0,
   "metadata": {
    "application/vnd.databricks.v1+cell": {
     "cellMetadata": {
      "byteLimit": 2048000,
      "rowLimit": 10000
     },
     "inputWidgets": {},
     "nuid": "f9a19730-7e73-46c0-aede-129fa05b69bf",
     "showTitle": false,
     "title": ""
    }
   },
   "outputs": [
    {
     "output_type": "display_data",
     "data": {
      "text/html": [
       "<style scoped>\n",
       "  .table-result-container {\n",
       "    max-height: 300px;\n",
       "    overflow: auto;\n",
       "  }\n",
       "  table, th, td {\n",
       "    border: 1px solid black;\n",
       "    border-collapse: collapse;\n",
       "  }\n",
       "  th, td {\n",
       "    padding: 5px;\n",
       "  }\n",
       "  th {\n",
       "    text-align: left;\n",
       "  }\n",
       "</style><div class='table-result-container'><table class='table-result'><thead style='background-color: white'><tr><th>data</th></tr></thead><tbody><tr><td>{\"ind\":7528,\"timestamp\":\"2020-08-28T03:52:47\",\"latitude\":-89.9787,\"longitude\":-173.293,\"country\":\"Albania\"}</td></tr><tr><td>{\"ind\":2863,\"timestamp\":\"2020-04-27T13:34:16\",\"latitude\":-5.34445,\"longitude\":-177.924,\"country\":\"Armenia\"}</td></tr><tr><td>{\"ind\":5730,\"timestamp\":\"2021-04-19T17:37:03\",\"latitude\":-77.015,\"longitude\":-101.437,\"country\":\"Colombia\"}</td></tr><tr><td>{\"ind\":7528,\"timestamp\":\"2020-08-28T03:52:47\",\"latitude\":-89.9787,\"longitude\":-173.293,\"country\":\"Albania\"}</td></tr><tr><td>{\"ind\":2863,\"timestamp\":\"2020-04-27T13:34:16\",\"latitude\":-5.34445,\"longitude\":-177.924,\"country\":\"Armenia\"}</td></tr><tr><td>{\"ind\":5730,\"timestamp\":\"2021-04-19T17:37:03\",\"latitude\":-77.015,\"longitude\":-101.437,\"country\":\"Colombia\"}</td></tr><tr><td>{\"ind\":8304,\"timestamp\":\"2019-09-13T04:50:29\",\"latitude\":-28.8852,\"longitude\":-164.87,\"country\":\"French Guiana\"}</td></tr><tr><td>{\"ind\":8731,\"timestamp\":\"2020-07-17T04:39:09\",\"latitude\":-83.104,\"longitude\":-171.302,\"country\":\"Aruba\"}</td></tr><tr><td>{\"ind\":1313,\"timestamp\":\"2018-06-26T02:39:25\",\"latitude\":77.0447,\"longitude\":61.9119,\"country\":\"Maldives\"}</td></tr><tr><td>{\"ind\":4315,\"timestamp\":\"2019-12-15T03:51:28\",\"latitude\":-45.8508,\"longitude\":66.1003,\"country\":\"Cote d'Ivoire\"}</td></tr><tr><td>{\"ind\":10794,\"timestamp\":\"2022-01-01T02:26:50\",\"latitude\":-89.5236,\"longitude\":-154.567,\"country\":\"Cocos (Keeling) Islands\"}</td></tr><tr><td>{\"ind\":5494,\"timestamp\":\"2021-07-21T02:02:35\",\"latitude\":-82.6768,\"longitude\":-129.202,\"country\":\"Bulgaria\"}</td></tr><tr><td>{\"ind\":7528,\"timestamp\":\"2020-08-28T03:52:47\",\"latitude\":-89.9787,\"longitude\":-173.293,\"country\":\"Albania\"}</td></tr><tr><td>{\"ind\":2863,\"timestamp\":\"2020-04-27T13:34:16\",\"latitude\":-5.34445,\"longitude\":-177.924,\"country\":\"Armenia\"}</td></tr><tr><td>{\"ind\":5730,\"timestamp\":\"2021-04-19T17:37:03\",\"latitude\":-77.015,\"longitude\":-101.437,\"country\":\"Colombia\"}</td></tr><tr><td>{\"ind\":8304,\"timestamp\":\"2019-09-13T04:50:29\",\"latitude\":-28.8852,\"longitude\":-164.87,\"country\":\"French Guiana\"}</td></tr><tr><td>{\"ind\":8731,\"timestamp\":\"2020-07-17T04:39:09\",\"latitude\":-83.104,\"longitude\":-171.302,\"country\":\"Aruba\"}</td></tr><tr><td>{\"ind\":1313,\"timestamp\":\"2018-06-26T02:39:25\",\"latitude\":77.0447,\"longitude\":61.9119,\"country\":\"Maldives\"}</td></tr><tr><td>{\"ind\":4315,\"timestamp\":\"2019-12-15T03:51:28\",\"latitude\":-45.8508,\"longitude\":66.1003,\"country\":\"Cote d'Ivoire\"}</td></tr><tr><td>{\"ind\":10794,\"timestamp\":\"2022-01-01T02:26:50\",\"latitude\":-89.5236,\"longitude\":-154.567,\"country\":\"Cocos (Keeling) Islands\"}</td></tr><tr><td>{\"ind\":5494,\"timestamp\":\"2021-07-21T02:02:35\",\"latitude\":-82.6768,\"longitude\":-129.202,\"country\":\"Bulgaria\"}</td></tr><tr><td>{\"ind\":5069,\"timestamp\":\"2021-03-20T09:32:44\",\"latitude\":-63.0063,\"longitude\":-157.474,\"country\":\"Azerbaijan\"}</td></tr><tr><td>{\"ind\":2923,\"timestamp\":\"2019-09-08T22:53:09\",\"latitude\":-84.6302,\"longitude\":-164.507,\"country\":\"Cote d'Ivoire\"}</td></tr><tr><td>{\"ind\":3089,\"timestamp\":\"2018-02-28T05:31:29\",\"latitude\":-89.9787,\"longitude\":-173.293,\"country\":\"Albania\"}</td></tr><tr><td>{\"ind\":6063,\"timestamp\":\"2021-07-20T09:02:47\",\"latitude\":-89.1797,\"longitude\":-174.015,\"country\":\"Anguilla\"}</td></tr><tr><td>{\"ind\":3454,\"timestamp\":\"2021-07-25T02:20:29\",\"latitude\":-0.375174,\"longitude\":49.8106,\"country\":\"Cambodia\"}</td></tr><tr><td>{\"ind\":7554,\"timestamp\":\"2019-03-20T03:15:07\",\"latitude\":-51.2172,\"longitude\":-77.9768,\"country\":\"Sudan\"}</td></tr><tr><td>{\"ind\":6145,\"timestamp\":\"2019-12-05T02:09:44\",\"latitude\":-65.9079,\"longitude\":-143.845,\"country\":\"Mozambique\"}</td></tr><tr><td>{\"ind\":10625,\"timestamp\":\"2018-07-13T11:51:15\",\"latitude\":-84.4944,\"longitude\":-81.0613,\"country\":\"Jamaica\"}</td></tr><tr><td>{\"ind\":2959,\"timestamp\":\"2019-08-19T08:22:02\",\"latitude\":-68.0095,\"longitude\":-157.227,\"country\":\"Angola\"}</td></tr><tr><td>{\"ind\":9875,\"timestamp\":\"2020-03-20T13:03:18\",\"latitude\":-74.3382,\"longitude\":-110.484,\"country\":\"Barbados\"}</td></tr><tr><td>{\"ind\":2418,\"timestamp\":\"2022-05-27T11:30:59\",\"latitude\":-88.4642,\"longitude\":-171.061,\"country\":\"Antarctica (the territory South of 60 deg S)\"}</td></tr><tr><td>{\"ind\":3156,\"timestamp\":\"2018-01-13T19:33:49\",\"latitude\":-84.738,\"longitude\":-160.795,\"country\":\"Armenia\"}</td></tr><tr><td>{\"ind\":428,\"timestamp\":\"2020-09-27T18:46:41\",\"latitude\":-83.4105,\"longitude\":-150.788,\"country\":\"Bangladesh\"}</td></tr><tr><td>{\"ind\":7343,\"timestamp\":\"2018-08-06T12:17:07\",\"latitude\":-65.4428,\"longitude\":-161.684,\"country\":\"Australia\"}</td></tr><tr><td>{\"ind\":2074,\"timestamp\":\"2019-11-03T05:41:59\",\"latitude\":-52.3213,\"longitude\":-50.11,\"country\":\"Central African Republic\"}</td></tr><tr><td>{\"ind\":9979,\"timestamp\":\"2018-07-18T19:01:46\",\"latitude\":14.9967,\"longitude\":-120.682,\"country\":\"Dominican Republic\"}</td></tr><tr><td>{\"ind\":10138,\"timestamp\":\"2019-08-03T00:59:29\",\"latitude\":-72.142,\"longitude\":-74.3545,\"country\":\"Austria\"}</td></tr><tr><td>{\"ind\":9672,\"timestamp\":\"2019-11-03T13:15:52\",\"latitude\":79.4658,\"longitude\":-69.4133,\"country\":\"India\"}</td></tr></tbody></table></div>"
      ]
     },
     "metadata": {
      "application/vnd.databricks.v1+output": {
       "addedWidgets": {},
       "aggData": [],
       "aggError": "",
       "aggOverflow": false,
       "aggSchema": [],
       "aggSeriesLimitReached": false,
       "aggType": "",
       "arguments": {},
       "columnCustomDisplayInfos": {},
       "data": [
        [
         "{\"ind\":7528,\"timestamp\":\"2020-08-28T03:52:47\",\"latitude\":-89.9787,\"longitude\":-173.293,\"country\":\"Albania\"}"
        ],
        [
         "{\"ind\":2863,\"timestamp\":\"2020-04-27T13:34:16\",\"latitude\":-5.34445,\"longitude\":-177.924,\"country\":\"Armenia\"}"
        ],
        [
         "{\"ind\":5730,\"timestamp\":\"2021-04-19T17:37:03\",\"latitude\":-77.015,\"longitude\":-101.437,\"country\":\"Colombia\"}"
        ],
        [
         "{\"ind\":7528,\"timestamp\":\"2020-08-28T03:52:47\",\"latitude\":-89.9787,\"longitude\":-173.293,\"country\":\"Albania\"}"
        ],
        [
         "{\"ind\":2863,\"timestamp\":\"2020-04-27T13:34:16\",\"latitude\":-5.34445,\"longitude\":-177.924,\"country\":\"Armenia\"}"
        ],
        [
         "{\"ind\":5730,\"timestamp\":\"2021-04-19T17:37:03\",\"latitude\":-77.015,\"longitude\":-101.437,\"country\":\"Colombia\"}"
        ],
        [
         "{\"ind\":8304,\"timestamp\":\"2019-09-13T04:50:29\",\"latitude\":-28.8852,\"longitude\":-164.87,\"country\":\"French Guiana\"}"
        ],
        [
         "{\"ind\":8731,\"timestamp\":\"2020-07-17T04:39:09\",\"latitude\":-83.104,\"longitude\":-171.302,\"country\":\"Aruba\"}"
        ],
        [
         "{\"ind\":1313,\"timestamp\":\"2018-06-26T02:39:25\",\"latitude\":77.0447,\"longitude\":61.9119,\"country\":\"Maldives\"}"
        ],
        [
         "{\"ind\":4315,\"timestamp\":\"2019-12-15T03:51:28\",\"latitude\":-45.8508,\"longitude\":66.1003,\"country\":\"Cote d'Ivoire\"}"
        ],
        [
         "{\"ind\":10794,\"timestamp\":\"2022-01-01T02:26:50\",\"latitude\":-89.5236,\"longitude\":-154.567,\"country\":\"Cocos (Keeling) Islands\"}"
        ],
        [
         "{\"ind\":5494,\"timestamp\":\"2021-07-21T02:02:35\",\"latitude\":-82.6768,\"longitude\":-129.202,\"country\":\"Bulgaria\"}"
        ],
        [
         "{\"ind\":7528,\"timestamp\":\"2020-08-28T03:52:47\",\"latitude\":-89.9787,\"longitude\":-173.293,\"country\":\"Albania\"}"
        ],
        [
         "{\"ind\":2863,\"timestamp\":\"2020-04-27T13:34:16\",\"latitude\":-5.34445,\"longitude\":-177.924,\"country\":\"Armenia\"}"
        ],
        [
         "{\"ind\":5730,\"timestamp\":\"2021-04-19T17:37:03\",\"latitude\":-77.015,\"longitude\":-101.437,\"country\":\"Colombia\"}"
        ],
        [
         "{\"ind\":8304,\"timestamp\":\"2019-09-13T04:50:29\",\"latitude\":-28.8852,\"longitude\":-164.87,\"country\":\"French Guiana\"}"
        ],
        [
         "{\"ind\":8731,\"timestamp\":\"2020-07-17T04:39:09\",\"latitude\":-83.104,\"longitude\":-171.302,\"country\":\"Aruba\"}"
        ],
        [
         "{\"ind\":1313,\"timestamp\":\"2018-06-26T02:39:25\",\"latitude\":77.0447,\"longitude\":61.9119,\"country\":\"Maldives\"}"
        ],
        [
         "{\"ind\":4315,\"timestamp\":\"2019-12-15T03:51:28\",\"latitude\":-45.8508,\"longitude\":66.1003,\"country\":\"Cote d'Ivoire\"}"
        ],
        [
         "{\"ind\":10794,\"timestamp\":\"2022-01-01T02:26:50\",\"latitude\":-89.5236,\"longitude\":-154.567,\"country\":\"Cocos (Keeling) Islands\"}"
        ],
        [
         "{\"ind\":5494,\"timestamp\":\"2021-07-21T02:02:35\",\"latitude\":-82.6768,\"longitude\":-129.202,\"country\":\"Bulgaria\"}"
        ],
        [
         "{\"ind\":5069,\"timestamp\":\"2021-03-20T09:32:44\",\"latitude\":-63.0063,\"longitude\":-157.474,\"country\":\"Azerbaijan\"}"
        ],
        [
         "{\"ind\":2923,\"timestamp\":\"2019-09-08T22:53:09\",\"latitude\":-84.6302,\"longitude\":-164.507,\"country\":\"Cote d'Ivoire\"}"
        ],
        [
         "{\"ind\":3089,\"timestamp\":\"2018-02-28T05:31:29\",\"latitude\":-89.9787,\"longitude\":-173.293,\"country\":\"Albania\"}"
        ],
        [
         "{\"ind\":6063,\"timestamp\":\"2021-07-20T09:02:47\",\"latitude\":-89.1797,\"longitude\":-174.015,\"country\":\"Anguilla\"}"
        ],
        [
         "{\"ind\":3454,\"timestamp\":\"2021-07-25T02:20:29\",\"latitude\":-0.375174,\"longitude\":49.8106,\"country\":\"Cambodia\"}"
        ],
        [
         "{\"ind\":7554,\"timestamp\":\"2019-03-20T03:15:07\",\"latitude\":-51.2172,\"longitude\":-77.9768,\"country\":\"Sudan\"}"
        ],
        [
         "{\"ind\":6145,\"timestamp\":\"2019-12-05T02:09:44\",\"latitude\":-65.9079,\"longitude\":-143.845,\"country\":\"Mozambique\"}"
        ],
        [
         "{\"ind\":10625,\"timestamp\":\"2018-07-13T11:51:15\",\"latitude\":-84.4944,\"longitude\":-81.0613,\"country\":\"Jamaica\"}"
        ],
        [
         "{\"ind\":2959,\"timestamp\":\"2019-08-19T08:22:02\",\"latitude\":-68.0095,\"longitude\":-157.227,\"country\":\"Angola\"}"
        ],
        [
         "{\"ind\":9875,\"timestamp\":\"2020-03-20T13:03:18\",\"latitude\":-74.3382,\"longitude\":-110.484,\"country\":\"Barbados\"}"
        ],
        [
         "{\"ind\":2418,\"timestamp\":\"2022-05-27T11:30:59\",\"latitude\":-88.4642,\"longitude\":-171.061,\"country\":\"Antarctica (the territory South of 60 deg S)\"}"
        ],
        [
         "{\"ind\":3156,\"timestamp\":\"2018-01-13T19:33:49\",\"latitude\":-84.738,\"longitude\":-160.795,\"country\":\"Armenia\"}"
        ],
        [
         "{\"ind\":428,\"timestamp\":\"2020-09-27T18:46:41\",\"latitude\":-83.4105,\"longitude\":-150.788,\"country\":\"Bangladesh\"}"
        ],
        [
         "{\"ind\":7343,\"timestamp\":\"2018-08-06T12:17:07\",\"latitude\":-65.4428,\"longitude\":-161.684,\"country\":\"Australia\"}"
        ],
        [
         "{\"ind\":2074,\"timestamp\":\"2019-11-03T05:41:59\",\"latitude\":-52.3213,\"longitude\":-50.11,\"country\":\"Central African Republic\"}"
        ],
        [
         "{\"ind\":9979,\"timestamp\":\"2018-07-18T19:01:46\",\"latitude\":14.9967,\"longitude\":-120.682,\"country\":\"Dominican Republic\"}"
        ],
        [
         "{\"ind\":10138,\"timestamp\":\"2019-08-03T00:59:29\",\"latitude\":-72.142,\"longitude\":-74.3545,\"country\":\"Austria\"}"
        ],
        [
         "{\"ind\":9672,\"timestamp\":\"2019-11-03T13:15:52\",\"latitude\":79.4658,\"longitude\":-69.4133,\"country\":\"India\"}"
        ]
       ],
       "datasetInfos": [],
       "dbfsResultPath": null,
       "isJsonSchema": true,
       "metadata": {
        "isDbfsCommandResult": false
       },
       "overflow": false,
       "plotOptions": {
        "customPlotOptions": {},
        "displayType": "table",
        "pivotAggregation": null,
        "pivotColumns": null,
        "xColumns": null,
        "yColumns": null
       },
       "removedWidgets": [],
       "schema": [
        {
         "metadata": "{}",
         "name": "data",
         "type": "\"string\""
        }
       ],
       "type": "table"
      }
     },
     "output_type": "display_data"
    }
   ],
   "source": [
    "# display(geo_df)\n",
    "# display(pin_df)\n",
    "# display(user_df)\n"
   ]
  }
 ],
 "metadata": {
  "application/vnd.databricks.v1+notebook": {
   "dashboards": [],
   "language": "python",
   "notebookMetadata": {
    "mostRecentlyExecutedCommandWithImplicitDF": {
     "commandId": 2166566293989301,
     "dataframes": [
      "_sqldf"
     ]
    },
    "pythonIndentUnit": 4
   },
   "notebookName": "read-from-kinesis",
   "widgets": {}
  }
 },
 "nbformat": 4,
 "nbformat_minor": 0
}
